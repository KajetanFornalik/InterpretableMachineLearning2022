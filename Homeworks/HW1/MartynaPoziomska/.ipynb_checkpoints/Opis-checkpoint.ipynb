{
 "cells": [
  {
   "cell_type": "markdown",
   "metadata": {},
   "source": [
    "Wybrałam modele z publikacji załączonej jako pdf: shallow (surowy sygnał EEG) i Reimann (wyodrębnione cechy sygnału EEG). Zestaw danych użyty w tej publikacji to sygnały EEG (https://isip.piconepress.com/projects/tuh_eeg/downloads/tuh_eeg_abnormal/v2.0.0/) które mają w sobie informacje o wieku, płci pacjenta oraz czy pacjent był zdrowy czy chory. Nie wgrywałam ich ze względu na duży rozmiar. Udostępnili również githuba ze swoimi kodami: https://github.com/gemeinl/auto-eeg-diagnosis-comparison\n",
    "\n",
    "Ponieważ bardzo mnie to interesuje to się uparłam żeby to przygotować jako pracę domową, jednak okazało się że tydzień to za mało czasu, bo jeszcze nie do końca się odnalazłam w ich githubie - jest bardzo nieintuicyjny niestety. \n",
    "\n",
    "Tak więc bardzo przepraszam za ubogą pracę domową. Do następnych zajęć postaram się stworzyć własny moduł nad którym będę mogła dalej pracować dodając metody z XAI. \n",
    "\n",
    "To piszę tak bardziej informacyjnie, bo pamiętam że wspominał Pan że na podstawie tych prac domowych będą tworzone grupy."
   ]
  },
  {
   "cell_type": "code",
   "execution_count": null,
   "metadata": {},
   "outputs": [],
   "source": []
  }
 ],
 "metadata": {
  "kernelspec": {
   "display_name": "Python 3",
   "language": "python",
   "name": "python3"
  },
  "language_info": {
   "codemirror_mode": {
    "name": "ipython",
    "version": 3
   },
   "file_extension": ".py",
   "mimetype": "text/x-python",
   "name": "python",
   "nbconvert_exporter": "python",
   "pygments_lexer": "ipython3",
   "version": "3.8.5"
  }
 },
 "nbformat": 4,
 "nbformat_minor": 4
}
