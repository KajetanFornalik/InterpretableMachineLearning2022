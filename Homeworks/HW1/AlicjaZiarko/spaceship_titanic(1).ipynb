{
  "cells": [
    {
      "cell_type": "markdown",
      "metadata": {
        "id": "Z3bn0q2_-EXS"
      },
      "source": [
        "Data is taken from https://www.kaggle.com/c/spaceship-titanic/data?select=train.csv."
      ]
    },
    {
      "cell_type": "code",
      "execution_count": 189,
      "metadata": {
        "id": "s_TtkG4H-AZX"
      },
      "outputs": [],
      "source": [
        "import pandas as pd\n",
        "\n",
        "from sklearn.model_selection import train_test_split\n",
        "from sklearn.ensemble import RandomForestClassifier\n",
        "from sklearn.model_selection import RandomizedSearchCV\n",
        "\n",
        "import numpy as np\n",
        "import random\n",
        "\n",
        "from xgboost import XGBClassifier\n",
        "\n",
        "random.seed(0)\n",
        "np.random.seed(0)"
      ]
    },
    {
      "cell_type": "code",
      "execution_count": 190,
      "metadata": {
        "colab": {
          "base_uri": "https://localhost:8080/"
        },
        "id": "oTl80def_N0_",
        "outputId": "7d2e4188-baae-4eef-ec43-22147911d5c0"
      },
      "outputs": [
        {
          "output_type": "stream",
          "name": "stdout",
          "text": [
            "  PassengerId HomePlanet CryoSleep  Cabin  Destination   Age    VIP  \\\n",
            "0     0001_01     Europa     False  B/0/P  TRAPPIST-1e  39.0  False   \n",
            "1     0002_01      Earth     False  F/0/S  TRAPPIST-1e  24.0  False   \n",
            "2     0003_01     Europa     False  A/0/S  TRAPPIST-1e  58.0   True   \n",
            "3     0003_02     Europa     False  A/0/S  TRAPPIST-1e  33.0  False   \n",
            "4     0004_01      Earth     False  F/1/S  TRAPPIST-1e  16.0  False   \n",
            "\n",
            "   RoomService  FoodCourt  ShoppingMall     Spa  VRDeck               Name  \\\n",
            "0          0.0        0.0           0.0     0.0     0.0    Maham Ofracculy   \n",
            "1        109.0        9.0          25.0   549.0    44.0       Juanna Vines   \n",
            "2         43.0     3576.0           0.0  6715.0    49.0      Altark Susent   \n",
            "3          0.0     1283.0         371.0  3329.0   193.0       Solam Susent   \n",
            "4        303.0       70.0         151.0   565.0     2.0  Willy Santantines   \n",
            "\n",
            "   Transported  \n",
            "0        False  \n",
            "1         True  \n",
            "2        False  \n",
            "3        False  \n",
            "4         True  \n"
          ]
        }
      ],
      "source": [
        "df = pd.read_csv(\"train.csv\")\n",
        "print(df.head())"
      ]
    },
    {
      "cell_type": "markdown",
      "metadata": {
        "id": "_yhxTVgZCs1w"
      },
      "source": [
        "Some feature engineering is needed to use the data"
      ]
    },
    {
      "cell_type": "code",
      "execution_count": 191,
      "metadata": {
        "colab": {
          "base_uri": "https://localhost:8080/"
        },
        "id": "Nl2z0M7yCy62",
        "outputId": "219bf9d7-d228-4ffc-9fa9-916799a00551"
      },
      "outputs": [
        {
          "output_type": "stream",
          "name": "stdout",
          "text": [
            "Earth     4602\n",
            "Europa    2131\n",
            "Mars      1759\n",
            "Name: HomePlanet, dtype: int64\n"
          ]
        }
      ],
      "source": [
        "print(df[\"HomePlanet\"].value_counts())"
      ]
    },
    {
      "cell_type": "markdown",
      "metadata": {
        "id": "XxxTwRdJDLSw"
      },
      "source": [
        "HomePlanet can be one-hot encoded"
      ]
    },
    {
      "cell_type": "code",
      "execution_count": 192,
      "metadata": {
        "id": "BlWVSrbeDO0_"
      },
      "outputs": [],
      "source": [
        "df = df.join(pd.get_dummies(data = df[\"HomePlanet\"], prefix = \"From\")).drop(\"HomePlanet\", axis = 1)"
      ]
    },
    {
      "cell_type": "code",
      "execution_count": 193,
      "metadata": {
        "colab": {
          "base_uri": "https://localhost:8080/",
          "height": 357
        },
        "id": "muftGGWdDZmX",
        "outputId": "32dc6b84-74cd-40bb-cd63-9d7b1f16c723"
      },
      "outputs": [
        {
          "output_type": "execute_result",
          "data": {
            "text/html": [
              "\n",
              "  <div id=\"df-4adfed0d-b91d-48d6-8da0-222200d54c70\">\n",
              "    <div class=\"colab-df-container\">\n",
              "      <div>\n",
              "<style scoped>\n",
              "    .dataframe tbody tr th:only-of-type {\n",
              "        vertical-align: middle;\n",
              "    }\n",
              "\n",
              "    .dataframe tbody tr th {\n",
              "        vertical-align: top;\n",
              "    }\n",
              "\n",
              "    .dataframe thead th {\n",
              "        text-align: right;\n",
              "    }\n",
              "</style>\n",
              "<table border=\"1\" class=\"dataframe\">\n",
              "  <thead>\n",
              "    <tr style=\"text-align: right;\">\n",
              "      <th></th>\n",
              "      <th>PassengerId</th>\n",
              "      <th>CryoSleep</th>\n",
              "      <th>Cabin</th>\n",
              "      <th>Destination</th>\n",
              "      <th>Age</th>\n",
              "      <th>VIP</th>\n",
              "      <th>RoomService</th>\n",
              "      <th>FoodCourt</th>\n",
              "      <th>ShoppingMall</th>\n",
              "      <th>Spa</th>\n",
              "      <th>VRDeck</th>\n",
              "      <th>Name</th>\n",
              "      <th>Transported</th>\n",
              "      <th>From_Earth</th>\n",
              "      <th>From_Europa</th>\n",
              "      <th>From_Mars</th>\n",
              "    </tr>\n",
              "  </thead>\n",
              "  <tbody>\n",
              "    <tr>\n",
              "      <th>0</th>\n",
              "      <td>0001_01</td>\n",
              "      <td>False</td>\n",
              "      <td>B/0/P</td>\n",
              "      <td>TRAPPIST-1e</td>\n",
              "      <td>39.0</td>\n",
              "      <td>False</td>\n",
              "      <td>0.0</td>\n",
              "      <td>0.0</td>\n",
              "      <td>0.0</td>\n",
              "      <td>0.0</td>\n",
              "      <td>0.0</td>\n",
              "      <td>Maham Ofracculy</td>\n",
              "      <td>False</td>\n",
              "      <td>0</td>\n",
              "      <td>1</td>\n",
              "      <td>0</td>\n",
              "    </tr>\n",
              "    <tr>\n",
              "      <th>1</th>\n",
              "      <td>0002_01</td>\n",
              "      <td>False</td>\n",
              "      <td>F/0/S</td>\n",
              "      <td>TRAPPIST-1e</td>\n",
              "      <td>24.0</td>\n",
              "      <td>False</td>\n",
              "      <td>109.0</td>\n",
              "      <td>9.0</td>\n",
              "      <td>25.0</td>\n",
              "      <td>549.0</td>\n",
              "      <td>44.0</td>\n",
              "      <td>Juanna Vines</td>\n",
              "      <td>True</td>\n",
              "      <td>1</td>\n",
              "      <td>0</td>\n",
              "      <td>0</td>\n",
              "    </tr>\n",
              "    <tr>\n",
              "      <th>2</th>\n",
              "      <td>0003_01</td>\n",
              "      <td>False</td>\n",
              "      <td>A/0/S</td>\n",
              "      <td>TRAPPIST-1e</td>\n",
              "      <td>58.0</td>\n",
              "      <td>True</td>\n",
              "      <td>43.0</td>\n",
              "      <td>3576.0</td>\n",
              "      <td>0.0</td>\n",
              "      <td>6715.0</td>\n",
              "      <td>49.0</td>\n",
              "      <td>Altark Susent</td>\n",
              "      <td>False</td>\n",
              "      <td>0</td>\n",
              "      <td>1</td>\n",
              "      <td>0</td>\n",
              "    </tr>\n",
              "    <tr>\n",
              "      <th>3</th>\n",
              "      <td>0003_02</td>\n",
              "      <td>False</td>\n",
              "      <td>A/0/S</td>\n",
              "      <td>TRAPPIST-1e</td>\n",
              "      <td>33.0</td>\n",
              "      <td>False</td>\n",
              "      <td>0.0</td>\n",
              "      <td>1283.0</td>\n",
              "      <td>371.0</td>\n",
              "      <td>3329.0</td>\n",
              "      <td>193.0</td>\n",
              "      <td>Solam Susent</td>\n",
              "      <td>False</td>\n",
              "      <td>0</td>\n",
              "      <td>1</td>\n",
              "      <td>0</td>\n",
              "    </tr>\n",
              "    <tr>\n",
              "      <th>4</th>\n",
              "      <td>0004_01</td>\n",
              "      <td>False</td>\n",
              "      <td>F/1/S</td>\n",
              "      <td>TRAPPIST-1e</td>\n",
              "      <td>16.0</td>\n",
              "      <td>False</td>\n",
              "      <td>303.0</td>\n",
              "      <td>70.0</td>\n",
              "      <td>151.0</td>\n",
              "      <td>565.0</td>\n",
              "      <td>2.0</td>\n",
              "      <td>Willy Santantines</td>\n",
              "      <td>True</td>\n",
              "      <td>1</td>\n",
              "      <td>0</td>\n",
              "      <td>0</td>\n",
              "    </tr>\n",
              "  </tbody>\n",
              "</table>\n",
              "</div>\n",
              "      <button class=\"colab-df-convert\" onclick=\"convertToInteractive('df-4adfed0d-b91d-48d6-8da0-222200d54c70')\"\n",
              "              title=\"Convert this dataframe to an interactive table.\"\n",
              "              style=\"display:none;\">\n",
              "        \n",
              "  <svg xmlns=\"http://www.w3.org/2000/svg\" height=\"24px\"viewBox=\"0 0 24 24\"\n",
              "       width=\"24px\">\n",
              "    <path d=\"M0 0h24v24H0V0z\" fill=\"none\"/>\n",
              "    <path d=\"M18.56 5.44l.94 2.06.94-2.06 2.06-.94-2.06-.94-.94-2.06-.94 2.06-2.06.94zm-11 1L8.5 8.5l.94-2.06 2.06-.94-2.06-.94L8.5 2.5l-.94 2.06-2.06.94zm10 10l.94 2.06.94-2.06 2.06-.94-2.06-.94-.94-2.06-.94 2.06-2.06.94z\"/><path d=\"M17.41 7.96l-1.37-1.37c-.4-.4-.92-.59-1.43-.59-.52 0-1.04.2-1.43.59L10.3 9.45l-7.72 7.72c-.78.78-.78 2.05 0 2.83L4 21.41c.39.39.9.59 1.41.59.51 0 1.02-.2 1.41-.59l7.78-7.78 2.81-2.81c.8-.78.8-2.07 0-2.86zM5.41 20L4 18.59l7.72-7.72 1.47 1.35L5.41 20z\"/>\n",
              "  </svg>\n",
              "      </button>\n",
              "      \n",
              "  <style>\n",
              "    .colab-df-container {\n",
              "      display:flex;\n",
              "      flex-wrap:wrap;\n",
              "      gap: 12px;\n",
              "    }\n",
              "\n",
              "    .colab-df-convert {\n",
              "      background-color: #E8F0FE;\n",
              "      border: none;\n",
              "      border-radius: 50%;\n",
              "      cursor: pointer;\n",
              "      display: none;\n",
              "      fill: #1967D2;\n",
              "      height: 32px;\n",
              "      padding: 0 0 0 0;\n",
              "      width: 32px;\n",
              "    }\n",
              "\n",
              "    .colab-df-convert:hover {\n",
              "      background-color: #E2EBFA;\n",
              "      box-shadow: 0px 1px 2px rgba(60, 64, 67, 0.3), 0px 1px 3px 1px rgba(60, 64, 67, 0.15);\n",
              "      fill: #174EA6;\n",
              "    }\n",
              "\n",
              "    [theme=dark] .colab-df-convert {\n",
              "      background-color: #3B4455;\n",
              "      fill: #D2E3FC;\n",
              "    }\n",
              "\n",
              "    [theme=dark] .colab-df-convert:hover {\n",
              "      background-color: #434B5C;\n",
              "      box-shadow: 0px 1px 3px 1px rgba(0, 0, 0, 0.15);\n",
              "      filter: drop-shadow(0px 1px 2px rgba(0, 0, 0, 0.3));\n",
              "      fill: #FFFFFF;\n",
              "    }\n",
              "  </style>\n",
              "\n",
              "      <script>\n",
              "        const buttonEl =\n",
              "          document.querySelector('#df-4adfed0d-b91d-48d6-8da0-222200d54c70 button.colab-df-convert');\n",
              "        buttonEl.style.display =\n",
              "          google.colab.kernel.accessAllowed ? 'block' : 'none';\n",
              "\n",
              "        async function convertToInteractive(key) {\n",
              "          const element = document.querySelector('#df-4adfed0d-b91d-48d6-8da0-222200d54c70');\n",
              "          const dataTable =\n",
              "            await google.colab.kernel.invokeFunction('convertToInteractive',\n",
              "                                                     [key], {});\n",
              "          if (!dataTable) return;\n",
              "\n",
              "          const docLinkHtml = 'Like what you see? Visit the ' +\n",
              "            '<a target=\"_blank\" href=https://colab.research.google.com/notebooks/data_table.ipynb>data table notebook</a>'\n",
              "            + ' to learn more about interactive tables.';\n",
              "          element.innerHTML = '';\n",
              "          dataTable['output_type'] = 'display_data';\n",
              "          await google.colab.output.renderOutput(dataTable, element);\n",
              "          const docLink = document.createElement('div');\n",
              "          docLink.innerHTML = docLinkHtml;\n",
              "          element.appendChild(docLink);\n",
              "        }\n",
              "      </script>\n",
              "    </div>\n",
              "  </div>\n",
              "  "
            ],
            "text/plain": [
              "  PassengerId CryoSleep  Cabin  Destination   Age    VIP  RoomService  \\\n",
              "0     0001_01     False  B/0/P  TRAPPIST-1e  39.0  False          0.0   \n",
              "1     0002_01     False  F/0/S  TRAPPIST-1e  24.0  False        109.0   \n",
              "2     0003_01     False  A/0/S  TRAPPIST-1e  58.0   True         43.0   \n",
              "3     0003_02     False  A/0/S  TRAPPIST-1e  33.0  False          0.0   \n",
              "4     0004_01     False  F/1/S  TRAPPIST-1e  16.0  False        303.0   \n",
              "\n",
              "   FoodCourt  ShoppingMall     Spa  VRDeck               Name  Transported  \\\n",
              "0        0.0           0.0     0.0     0.0    Maham Ofracculy        False   \n",
              "1        9.0          25.0   549.0    44.0       Juanna Vines         True   \n",
              "2     3576.0           0.0  6715.0    49.0      Altark Susent        False   \n",
              "3     1283.0         371.0  3329.0   193.0       Solam Susent        False   \n",
              "4       70.0         151.0   565.0     2.0  Willy Santantines         True   \n",
              "\n",
              "   From_Earth  From_Europa  From_Mars  \n",
              "0           0            1          0  \n",
              "1           1            0          0  \n",
              "2           0            1          0  \n",
              "3           0            1          0  \n",
              "4           1            0          0  "
            ]
          },
          "metadata": {},
          "execution_count": 193
        }
      ],
      "source": [
        "df.head()"
      ]
    },
    {
      "cell_type": "markdown",
      "metadata": {
        "id": "amChyvbgEE6l"
      },
      "source": [
        "Name could contain important information, like gender, family surname etc, but it would be rather tedious to extract it."
      ]
    },
    {
      "cell_type": "code",
      "execution_count": 194,
      "metadata": {
        "id": "YPV247rpEWGH"
      },
      "outputs": [],
      "source": [
        "df = df.drop(\"Name\", axis = 1)"
      ]
    },
    {
      "cell_type": "markdown",
      "metadata": {
        "id": "xtNBVxLjLlCA"
      },
      "source": [
        "Let's drop NaNs."
      ]
    },
    {
      "cell_type": "code",
      "execution_count": 195,
      "metadata": {
        "id": "_28c_EVoLkfA"
      },
      "outputs": [],
      "source": [
        "df = df.dropna()"
      ]
    },
    {
      "cell_type": "markdown",
      "metadata": {
        "id": "7RGAk_4uPBqP"
      },
      "source": [
        "And change dtypes to bool where that works"
      ]
    },
    {
      "cell_type": "code",
      "execution_count": 196,
      "metadata": {
        "id": "uTBCLwGlPA46"
      },
      "outputs": [],
      "source": [
        "df[\"CryoSleep\"] = df[\"CryoSleep\"].astype(bool)\n",
        "df[\"VIP\"] = df[\"VIP\"].astype(bool)"
      ]
    },
    {
      "cell_type": "markdown",
      "metadata": {
        "id": "mQ47uobuEtCY"
      },
      "source": [
        "Destination can be one-hot encoded."
      ]
    },
    {
      "cell_type": "code",
      "execution_count": 197,
      "metadata": {
        "colab": {
          "base_uri": "https://localhost:8080/"
        },
        "id": "nEvML4NiEeqv",
        "outputId": "18086283-d8d4-411f-edb4-54516ad117cf"
      },
      "outputs": [
        {
          "output_type": "execute_result",
          "data": {
            "text/plain": [
              "TRAPPIST-1e      4812\n",
              "55 Cancri e      1466\n",
              "PSO J318.5-22     654\n",
              "Name: Destination, dtype: int64"
            ]
          },
          "metadata": {},
          "execution_count": 197
        }
      ],
      "source": [
        "df[\"Destination\"].value_counts()"
      ]
    },
    {
      "cell_type": "code",
      "execution_count": 198,
      "metadata": {
        "id": "euNfLLPHEyVh"
      },
      "outputs": [],
      "source": [
        "df = df.join(pd.get_dummies(data = df[\"Destination\"], prefix = \"Dest\")).drop(\"Destination\", axis = 1)"
      ]
    },
    {
      "cell_type": "markdown",
      "metadata": {
        "id": "Pxdm5xx3FBDJ"
      },
      "source": [
        "Cabin column can be transformed into 3 columns"
      ]
    },
    {
      "cell_type": "code",
      "execution_count": 199,
      "metadata": {
        "id": "cQ_TQDMAFGLT"
      },
      "outputs": [],
      "source": [
        "splitted_cabin = df[\"Cabin\"].str.split('/', 2, expand = True)\n",
        "df[[\"cab_deck\", \"cab_num\", \"cab_side\"]] = splitted_cabin\n",
        "df = df.drop(\"Cabin\", axis = 1)\n",
        "df[\"cab_num\"] = df[\"cab_num\"].astype(int)"
      ]
    },
    {
      "cell_type": "markdown",
      "metadata": {
        "id": "nUBFQTYeIbw5"
      },
      "source": [
        "Cabine deck and cabine side can be encoded"
      ]
    },
    {
      "cell_type": "code",
      "execution_count": 200,
      "metadata": {
        "id": "cP6ngs0tGmXJ"
      },
      "outputs": [],
      "source": [
        "df[\"cab_deck\"] = df[\"cab_deck\"].astype(str)\n",
        "df[\"cab_deck\"] = [ ord(x[0])  - 64 for x in df[\"cab_deck\"] ]\n",
        "\n"
      ]
    },
    {
      "cell_type": "code",
      "execution_count": 201,
      "metadata": {
        "colab": {
          "base_uri": "https://localhost:8080/",
          "height": 305
        },
        "id": "D3nVwmQ2It-M",
        "outputId": "8f309e39-d842-4e2a-8fda-06187b2e857d"
      },
      "outputs": [
        {
          "output_type": "execute_result",
          "data": {
            "text/html": [
              "\n",
              "  <div id=\"df-f986d7e1-ccdf-4b62-8ba6-c8eb9a4104c1\">\n",
              "    <div class=\"colab-df-container\">\n",
              "      <div>\n",
              "<style scoped>\n",
              "    .dataframe tbody tr th:only-of-type {\n",
              "        vertical-align: middle;\n",
              "    }\n",
              "\n",
              "    .dataframe tbody tr th {\n",
              "        vertical-align: top;\n",
              "    }\n",
              "\n",
              "    .dataframe thead th {\n",
              "        text-align: right;\n",
              "    }\n",
              "</style>\n",
              "<table border=\"1\" class=\"dataframe\">\n",
              "  <thead>\n",
              "    <tr style=\"text-align: right;\">\n",
              "      <th></th>\n",
              "      <th>PassengerId</th>\n",
              "      <th>CryoSleep</th>\n",
              "      <th>Age</th>\n",
              "      <th>VIP</th>\n",
              "      <th>RoomService</th>\n",
              "      <th>FoodCourt</th>\n",
              "      <th>ShoppingMall</th>\n",
              "      <th>Spa</th>\n",
              "      <th>VRDeck</th>\n",
              "      <th>Transported</th>\n",
              "      <th>From_Earth</th>\n",
              "      <th>From_Europa</th>\n",
              "      <th>From_Mars</th>\n",
              "      <th>Dest_55 Cancri e</th>\n",
              "      <th>Dest_PSO J318.5-22</th>\n",
              "      <th>Dest_TRAPPIST-1e</th>\n",
              "      <th>cab_deck</th>\n",
              "      <th>cab_num</th>\n",
              "      <th>side_P</th>\n",
              "      <th>side_S</th>\n",
              "    </tr>\n",
              "  </thead>\n",
              "  <tbody>\n",
              "    <tr>\n",
              "      <th>0</th>\n",
              "      <td>0001_01</td>\n",
              "      <td>False</td>\n",
              "      <td>39.0</td>\n",
              "      <td>False</td>\n",
              "      <td>0.0</td>\n",
              "      <td>0.0</td>\n",
              "      <td>0.0</td>\n",
              "      <td>0.0</td>\n",
              "      <td>0.0</td>\n",
              "      <td>False</td>\n",
              "      <td>0</td>\n",
              "      <td>1</td>\n",
              "      <td>0</td>\n",
              "      <td>0</td>\n",
              "      <td>0</td>\n",
              "      <td>1</td>\n",
              "      <td>2</td>\n",
              "      <td>0</td>\n",
              "      <td>1</td>\n",
              "      <td>0</td>\n",
              "    </tr>\n",
              "    <tr>\n",
              "      <th>1</th>\n",
              "      <td>0002_01</td>\n",
              "      <td>False</td>\n",
              "      <td>24.0</td>\n",
              "      <td>False</td>\n",
              "      <td>109.0</td>\n",
              "      <td>9.0</td>\n",
              "      <td>25.0</td>\n",
              "      <td>549.0</td>\n",
              "      <td>44.0</td>\n",
              "      <td>True</td>\n",
              "      <td>1</td>\n",
              "      <td>0</td>\n",
              "      <td>0</td>\n",
              "      <td>0</td>\n",
              "      <td>0</td>\n",
              "      <td>1</td>\n",
              "      <td>6</td>\n",
              "      <td>0</td>\n",
              "      <td>0</td>\n",
              "      <td>1</td>\n",
              "    </tr>\n",
              "    <tr>\n",
              "      <th>2</th>\n",
              "      <td>0003_01</td>\n",
              "      <td>False</td>\n",
              "      <td>58.0</td>\n",
              "      <td>True</td>\n",
              "      <td>43.0</td>\n",
              "      <td>3576.0</td>\n",
              "      <td>0.0</td>\n",
              "      <td>6715.0</td>\n",
              "      <td>49.0</td>\n",
              "      <td>False</td>\n",
              "      <td>0</td>\n",
              "      <td>1</td>\n",
              "      <td>0</td>\n",
              "      <td>0</td>\n",
              "      <td>0</td>\n",
              "      <td>1</td>\n",
              "      <td>1</td>\n",
              "      <td>0</td>\n",
              "      <td>0</td>\n",
              "      <td>1</td>\n",
              "    </tr>\n",
              "    <tr>\n",
              "      <th>3</th>\n",
              "      <td>0003_02</td>\n",
              "      <td>False</td>\n",
              "      <td>33.0</td>\n",
              "      <td>False</td>\n",
              "      <td>0.0</td>\n",
              "      <td>1283.0</td>\n",
              "      <td>371.0</td>\n",
              "      <td>3329.0</td>\n",
              "      <td>193.0</td>\n",
              "      <td>False</td>\n",
              "      <td>0</td>\n",
              "      <td>1</td>\n",
              "      <td>0</td>\n",
              "      <td>0</td>\n",
              "      <td>0</td>\n",
              "      <td>1</td>\n",
              "      <td>1</td>\n",
              "      <td>0</td>\n",
              "      <td>0</td>\n",
              "      <td>1</td>\n",
              "    </tr>\n",
              "    <tr>\n",
              "      <th>4</th>\n",
              "      <td>0004_01</td>\n",
              "      <td>False</td>\n",
              "      <td>16.0</td>\n",
              "      <td>False</td>\n",
              "      <td>303.0</td>\n",
              "      <td>70.0</td>\n",
              "      <td>151.0</td>\n",
              "      <td>565.0</td>\n",
              "      <td>2.0</td>\n",
              "      <td>True</td>\n",
              "      <td>1</td>\n",
              "      <td>0</td>\n",
              "      <td>0</td>\n",
              "      <td>0</td>\n",
              "      <td>0</td>\n",
              "      <td>1</td>\n",
              "      <td>6</td>\n",
              "      <td>1</td>\n",
              "      <td>0</td>\n",
              "      <td>1</td>\n",
              "    </tr>\n",
              "  </tbody>\n",
              "</table>\n",
              "</div>\n",
              "      <button class=\"colab-df-convert\" onclick=\"convertToInteractive('df-f986d7e1-ccdf-4b62-8ba6-c8eb9a4104c1')\"\n",
              "              title=\"Convert this dataframe to an interactive table.\"\n",
              "              style=\"display:none;\">\n",
              "        \n",
              "  <svg xmlns=\"http://www.w3.org/2000/svg\" height=\"24px\"viewBox=\"0 0 24 24\"\n",
              "       width=\"24px\">\n",
              "    <path d=\"M0 0h24v24H0V0z\" fill=\"none\"/>\n",
              "    <path d=\"M18.56 5.44l.94 2.06.94-2.06 2.06-.94-2.06-.94-.94-2.06-.94 2.06-2.06.94zm-11 1L8.5 8.5l.94-2.06 2.06-.94-2.06-.94L8.5 2.5l-.94 2.06-2.06.94zm10 10l.94 2.06.94-2.06 2.06-.94-2.06-.94-.94-2.06-.94 2.06-2.06.94z\"/><path d=\"M17.41 7.96l-1.37-1.37c-.4-.4-.92-.59-1.43-.59-.52 0-1.04.2-1.43.59L10.3 9.45l-7.72 7.72c-.78.78-.78 2.05 0 2.83L4 21.41c.39.39.9.59 1.41.59.51 0 1.02-.2 1.41-.59l7.78-7.78 2.81-2.81c.8-.78.8-2.07 0-2.86zM5.41 20L4 18.59l7.72-7.72 1.47 1.35L5.41 20z\"/>\n",
              "  </svg>\n",
              "      </button>\n",
              "      \n",
              "  <style>\n",
              "    .colab-df-container {\n",
              "      display:flex;\n",
              "      flex-wrap:wrap;\n",
              "      gap: 12px;\n",
              "    }\n",
              "\n",
              "    .colab-df-convert {\n",
              "      background-color: #E8F0FE;\n",
              "      border: none;\n",
              "      border-radius: 50%;\n",
              "      cursor: pointer;\n",
              "      display: none;\n",
              "      fill: #1967D2;\n",
              "      height: 32px;\n",
              "      padding: 0 0 0 0;\n",
              "      width: 32px;\n",
              "    }\n",
              "\n",
              "    .colab-df-convert:hover {\n",
              "      background-color: #E2EBFA;\n",
              "      box-shadow: 0px 1px 2px rgba(60, 64, 67, 0.3), 0px 1px 3px 1px rgba(60, 64, 67, 0.15);\n",
              "      fill: #174EA6;\n",
              "    }\n",
              "\n",
              "    [theme=dark] .colab-df-convert {\n",
              "      background-color: #3B4455;\n",
              "      fill: #D2E3FC;\n",
              "    }\n",
              "\n",
              "    [theme=dark] .colab-df-convert:hover {\n",
              "      background-color: #434B5C;\n",
              "      box-shadow: 0px 1px 3px 1px rgba(0, 0, 0, 0.15);\n",
              "      filter: drop-shadow(0px 1px 2px rgba(0, 0, 0, 0.3));\n",
              "      fill: #FFFFFF;\n",
              "    }\n",
              "  </style>\n",
              "\n",
              "      <script>\n",
              "        const buttonEl =\n",
              "          document.querySelector('#df-f986d7e1-ccdf-4b62-8ba6-c8eb9a4104c1 button.colab-df-convert');\n",
              "        buttonEl.style.display =\n",
              "          google.colab.kernel.accessAllowed ? 'block' : 'none';\n",
              "\n",
              "        async function convertToInteractive(key) {\n",
              "          const element = document.querySelector('#df-f986d7e1-ccdf-4b62-8ba6-c8eb9a4104c1');\n",
              "          const dataTable =\n",
              "            await google.colab.kernel.invokeFunction('convertToInteractive',\n",
              "                                                     [key], {});\n",
              "          if (!dataTable) return;\n",
              "\n",
              "          const docLinkHtml = 'Like what you see? Visit the ' +\n",
              "            '<a target=\"_blank\" href=https://colab.research.google.com/notebooks/data_table.ipynb>data table notebook</a>'\n",
              "            + ' to learn more about interactive tables.';\n",
              "          element.innerHTML = '';\n",
              "          dataTable['output_type'] = 'display_data';\n",
              "          await google.colab.output.renderOutput(dataTable, element);\n",
              "          const docLink = document.createElement('div');\n",
              "          docLink.innerHTML = docLinkHtml;\n",
              "          element.appendChild(docLink);\n",
              "        }\n",
              "      </script>\n",
              "    </div>\n",
              "  </div>\n",
              "  "
            ],
            "text/plain": [
              "  PassengerId  CryoSleep   Age    VIP  RoomService  FoodCourt  ShoppingMall  \\\n",
              "0     0001_01      False  39.0  False          0.0        0.0           0.0   \n",
              "1     0002_01      False  24.0  False        109.0        9.0          25.0   \n",
              "2     0003_01      False  58.0   True         43.0     3576.0           0.0   \n",
              "3     0003_02      False  33.0  False          0.0     1283.0         371.0   \n",
              "4     0004_01      False  16.0  False        303.0       70.0         151.0   \n",
              "\n",
              "      Spa  VRDeck  Transported  From_Earth  From_Europa  From_Mars  \\\n",
              "0     0.0     0.0        False           0            1          0   \n",
              "1   549.0    44.0         True           1            0          0   \n",
              "2  6715.0    49.0        False           0            1          0   \n",
              "3  3329.0   193.0        False           0            1          0   \n",
              "4   565.0     2.0         True           1            0          0   \n",
              "\n",
              "   Dest_55 Cancri e  Dest_PSO J318.5-22  Dest_TRAPPIST-1e  cab_deck  cab_num  \\\n",
              "0                 0                   0                 1         2        0   \n",
              "1                 0                   0                 1         6        0   \n",
              "2                 0                   0                 1         1        0   \n",
              "3                 0                   0                 1         1        0   \n",
              "4                 0                   0                 1         6        1   \n",
              "\n",
              "   side_P  side_S  \n",
              "0       1       0  \n",
              "1       0       1  \n",
              "2       0       1  \n",
              "3       0       1  \n",
              "4       0       1  "
            ]
          },
          "metadata": {},
          "execution_count": 201
        }
      ],
      "source": [
        "df = df.join(pd.get_dummies(data = df[\"cab_side\"], prefix = \"side\")).drop(\"cab_side\", axis = 1)\n",
        "df.head()"
      ]
    },
    {
      "cell_type": "markdown",
      "metadata": {
        "id": "2E9MTD4hI9Kb"
      },
      "source": [
        "PassengerId can be splitted"
      ]
    },
    {
      "cell_type": "code",
      "execution_count": 202,
      "metadata": {
        "id": "al9cL6D2I8EO"
      },
      "outputs": [],
      "source": [
        "splitted_cabin = df[\"PassengerId\"].str.split('_', 1, expand = True)\n",
        "df[[\"group_id\", \"id_in_group\"]] = splitted_cabin\n",
        "df = df.drop(\"PassengerId\", axis = 1)"
      ]
    },
    {
      "cell_type": "code",
      "execution_count": 203,
      "metadata": {
        "id": "HrmwHyRRJah4"
      },
      "outputs": [],
      "source": [
        "df[\"id_in_group\"] = df[\"id_in_group\"].astype(int)\n",
        "df[\"group_id\"] = df[\"group_id\"].astype(int)"
      ]
    },
    {
      "cell_type": "markdown",
      "metadata": {
        "id": "4xERkqbUKj5J"
      },
      "source": [
        "Let's create train and test sets"
      ]
    },
    {
      "cell_type": "code",
      "execution_count": 204,
      "metadata": {
        "id": "Hnm1DZEMJm2Y"
      },
      "outputs": [],
      "source": [
        "train, test = train_test_split(df, test_size=0.2, random_state = 0)"
      ]
    },
    {
      "cell_type": "code",
      "execution_count": 205,
      "metadata": {
        "id": "7oRBDSzxJ3t_"
      },
      "outputs": [],
      "source": [
        "train_Y = train[\"Transported\"]\n",
        "train_X = train.drop(\"Transported\", axis = 1)\n",
        "\n",
        "test_Y = test[\"Transported\"]\n",
        "test_X = test.drop(\"Transported\", axis = 1)"
      ]
    },
    {
      "cell_type": "markdown",
      "metadata": {
        "id": "0uCzXx8JKcJr"
      },
      "source": [
        "First model that we'll try to use will be a random forest model. Our problem is classification. Let's first run the validation thing."
      ]
    },
    {
      "cell_type": "code",
      "source": [
        "grid = {'n_estimators': [90, 100, 150, 250],\n",
        "            'max_features': ['auto', 'sqrt'],\n",
        "            'max_depth': range(2, 20),\n",
        "            'min_samples_split':  range(2, 10),\n",
        "            'min_samples_leaf': range(2, 10),\n",
        "            'bootstrap': [True, False]}"
      ],
      "metadata": {
        "id": "DE99153M7298"
      },
      "execution_count": 206,
      "outputs": []
    },
    {
      "cell_type": "markdown",
      "source": [
        "Tuning hyperparameters"
      ],
      "metadata": {
        "id": "ItnGjFaj-LMp"
      }
    },
    {
      "cell_type": "code",
      "execution_count": 207,
      "metadata": {
        "colab": {
          "base_uri": "https://localhost:8080/"
        },
        "id": "nuZTZDpjKhSz",
        "outputId": "e7d6aadb-be23-480c-a5ed-54226533c497"
      },
      "outputs": [
        {
          "output_type": "stream",
          "name": "stdout",
          "text": [
            "Fitting 3 folds for each of 100 candidates, totalling 300 fits\n"
          ]
        },
        {
          "output_type": "execute_result",
          "data": {
            "text/plain": [
              "RandomizedSearchCV(cv=3, estimator=RandomForestClassifier(random_state=0),\n",
              "                   n_iter=100, n_jobs=-1,\n",
              "                   param_distributions={'bootstrap': [True, False],\n",
              "                                        'max_depth': range(2, 20),\n",
              "                                        'max_features': ['auto', 'sqrt'],\n",
              "                                        'min_samples_leaf': range(2, 10),\n",
              "                                        'min_samples_split': range(2, 10),\n",
              "                                        'n_estimators': [90, 100, 150, 250]},\n",
              "                   random_state=0, scoring='accuracy', verbose=2)"
            ]
          },
          "metadata": {},
          "execution_count": 207
        }
      ],
      "source": [
        "model = RandomForestClassifier(random_state = 0)\n",
        "\n",
        "cv = RandomizedSearchCV(estimator = model, param_distributions = grid, scoring = \"accuracy\", n_iter = 100, cv = 3, verbose=2, n_jobs = -1, random_state = 0)\n",
        "cv.fit(train_X, train_Y)"
      ]
    },
    {
      "cell_type": "markdown",
      "source": [
        "Best parameters:"
      ],
      "metadata": {
        "id": "gAV3fUxuApTA"
      }
    },
    {
      "cell_type": "code",
      "source": [
        "print(cv.best_estimator_)"
      ],
      "metadata": {
        "colab": {
          "base_uri": "https://localhost:8080/"
        },
        "id": "JvEtQqws_cZR",
        "outputId": "58133c75-272e-435c-aad4-aeaaff33739e"
      },
      "execution_count": 208,
      "outputs": [
        {
          "output_type": "stream",
          "name": "stdout",
          "text": [
            "RandomForestClassifier(max_depth=13, max_features='sqrt', min_samples_leaf=6,\n",
            "                       min_samples_split=3, random_state=0)\n"
          ]
        }
      ]
    },
    {
      "cell_type": "code",
      "execution_count": 218,
      "metadata": {
        "colab": {
          "base_uri": "https://localhost:8080/"
        },
        "id": "_XHXS-gPMHzr",
        "outputId": "e182efe8-489e-4402-b724-820928ad2cc0"
      },
      "outputs": [
        {
          "output_type": "stream",
          "name": "stdout",
          "text": [
            "Model accuracy on test data 0.8147080028839221\n"
          ]
        }
      ],
      "source": [
        "model = RandomForestClassifier(max_depth=13, max_features='sqrt', min_samples_leaf=6,\n",
        "                       min_samples_split=3, random_state=0)\n",
        "model.fit(train_X, train_Y)\n",
        "print(\"Model accuracy on test data\", model.score(test_X, test_Y))"
      ]
    },
    {
      "cell_type": "markdown",
      "metadata": {
        "id": "wbFs3HAuNR3v"
      },
      "source": [
        "Now we'll fit xgboost."
      ]
    },
    {
      "cell_type": "markdown",
      "source": [
        "Hyperparameter grid and hyperparameter search "
      ],
      "metadata": {
        "id": "uNQr2xPWS7QM"
      }
    },
    {
      "cell_type": "code",
      "source": [
        "param_grid = {'gamma': [0,0.1,0.2,0.4,0.8,1.6,3.2,6.4,12.8,25.6,51.2,102.4, 200],\n",
        "              'learning_rate': [0.01, 0.03, 0.06, 0.1, 0.15, 0.2, 0.25, 0.300000012, 0.4, 0.5, 0.6, 0.7],\n",
        "              'max_depth': [5,6,7,8,9,10,11,12,13,14],\n",
        "              'n_estimators': [50,65,80,100,115,130,150],\n",
        "              'reg_alpha': [0,0.1,0.2,0.4,0.8,1.6,3.2,6.4,12.8,25.6,51.2,102.4,200],\n",
        "              'reg_lambda': [0,0.1,0.2,0.4,0.8,1.6,3.2,6.4,12.8,25.6,51.2,102.4,200]}"
      ],
      "metadata": {
        "id": "vLkpVP44TAQy"
      },
      "execution_count": 210,
      "outputs": []
    },
    {
      "cell_type": "code",
      "source": [
        "model = XGBClassifier()\n",
        "\n",
        "cv = RandomizedSearchCV(estimator = model, param_distributions = param_grid, scoring = \"accuracy\", n_iter = 100, cv = 3, verbose=2, n_jobs = -1, random_state = 0)\n",
        "cv.fit(train_X, train_Y)"
      ],
      "metadata": {
        "colab": {
          "base_uri": "https://localhost:8080/"
        },
        "id": "oqSvNJohftdB",
        "outputId": "d379f11b-57db-4887-fbd5-0830e2da648e"
      },
      "execution_count": 211,
      "outputs": [
        {
          "output_type": "stream",
          "name": "stdout",
          "text": [
            "Fitting 3 folds for each of 100 candidates, totalling 300 fits\n"
          ]
        },
        {
          "output_type": "execute_result",
          "data": {
            "text/plain": [
              "RandomizedSearchCV(cv=3, estimator=XGBClassifier(), n_iter=100, n_jobs=-1,\n",
              "                   param_distributions={'gamma': [0, 0.1, 0.2, 0.4, 0.8, 1.6,\n",
              "                                                  3.2, 6.4, 12.8, 25.6, 51.2,\n",
              "                                                  102.4, 200],\n",
              "                                        'learning_rate': [0.01, 0.03, 0.06, 0.1,\n",
              "                                                          0.15, 0.2, 0.25,\n",
              "                                                          0.300000012, 0.4, 0.5,\n",
              "                                                          0.6, 0.7],\n",
              "                                        'max_depth': [5, 6, 7, 8, 9, 10, 11, 12,\n",
              "                                                      13, 14],\n",
              "                                        'n_estimators': [50, 65, 80, 100, 115,\n",
              "                                                         130, 150],\n",
              "                                        'reg_alpha': [0, 0.1, 0.2, 0.4, 0.8,\n",
              "                                                      1.6, 3.2, 6.4, 12.8, 25.6,\n",
              "                                                      51.2, 102.4, 200],\n",
              "                                        'reg_lambda': [0, 0.1, 0.2, 0.4, 0.8,\n",
              "                                                       1.6, 3.2, 6.4, 12.8,\n",
              "                                                       25.6, 51.2, 102.4,\n",
              "                                                       200]},\n",
              "                   random_state=0, scoring='accuracy', verbose=2)"
            ]
          },
          "metadata": {},
          "execution_count": 211
        }
      ]
    },
    {
      "cell_type": "code",
      "source": [
        "print(cv.best_estimator_)"
      ],
      "metadata": {
        "colab": {
          "base_uri": "https://localhost:8080/"
        },
        "id": "C7IBcBFKgL5L",
        "outputId": "395216e4-4328-40da-ed6d-77f8f8e027b1"
      },
      "execution_count": 212,
      "outputs": [
        {
          "output_type": "stream",
          "name": "stdout",
          "text": [
            "XGBClassifier(gamma=0.8, learning_rate=0.5, max_depth=13, n_estimators=65,\n",
            "              reg_alpha=0.8, reg_lambda=200)\n"
          ]
        }
      ]
    },
    {
      "cell_type": "code",
      "execution_count": 217,
      "metadata": {
        "colab": {
          "base_uri": "https://localhost:8080/"
        },
        "id": "OqSRuwDdNVNM",
        "outputId": "51e6ec57-0819-46e9-9e54-6b3b564a0091"
      },
      "outputs": [
        {
          "output_type": "stream",
          "name": "stdout",
          "text": [
            "0.8190338860850757\n"
          ]
        }
      ],
      "source": [
        "model = XGBClassifier(gamma=0.8, learning_rate=0.5, max_depth=13, n_estimators=65,\n",
        "              reg_alpha=0.8, reg_lambda=200)\n",
        "model.fit(train_X, train_Y)\n",
        "y_pred = model.predict(test_X)\n",
        "print((test_Y == y_pred).sum() / len(test_Y))"
      ]
    },
    {
      "cell_type": "markdown",
      "source": [
        "We'll also fit KNN model"
      ],
      "metadata": {
        "id": "58i4CL5LgTfw"
      }
    },
    {
      "cell_type": "code",
      "source": [
        "from sklearn.neighbors import KNeighborsClassifier\n",
        "leaf_size = list(range(1, 50))\n",
        "n_neighbors = list(range(1, 30))\n",
        "p = [1, 2, 3]\n",
        "\n",
        "param_grid = {\n",
        "    \"leaf_size\" : leaf_size,\n",
        "    \"n_neighbors\" : n_neighbors,\n",
        "    \"p\" : p\n",
        "}\n",
        "\n",
        "model = KNeighborsClassifier()\n",
        "cv = RandomizedSearchCV(estimator = model, param_distributions = param_grid, scoring = \"accuracy\", n_iter = 100, cv = 3, verbose=2, n_jobs = -1, random_state = 0)\n",
        "cv.fit(train_X, train_Y)"
      ],
      "metadata": {
        "colab": {
          "base_uri": "https://localhost:8080/"
        },
        "id": "PgVR1hJ-gVv8",
        "outputId": "3be1b1a2-2013-4839-ccb2-33e493277185"
      },
      "execution_count": 214,
      "outputs": [
        {
          "output_type": "stream",
          "name": "stdout",
          "text": [
            "Fitting 3 folds for each of 100 candidates, totalling 300 fits\n"
          ]
        },
        {
          "output_type": "execute_result",
          "data": {
            "text/plain": [
              "RandomizedSearchCV(cv=3, estimator=KNeighborsClassifier(), n_iter=100,\n",
              "                   n_jobs=-1,\n",
              "                   param_distributions={'leaf_size': [1, 2, 3, 4, 5, 6, 7, 8, 9,\n",
              "                                                      10, 11, 12, 13, 14, 15,\n",
              "                                                      16, 17, 18, 19, 20, 21,\n",
              "                                                      22, 23, 24, 25, 26, 27,\n",
              "                                                      28, 29, 30, ...],\n",
              "                                        'n_neighbors': [1, 2, 3, 4, 5, 6, 7, 8,\n",
              "                                                        9, 10, 11, 12, 13, 14,\n",
              "                                                        15, 16, 17, 18, 19, 20,\n",
              "                                                        21, 22, 23, 24, 25, 26,\n",
              "                                                        27, 28, 29],\n",
              "                                        'p': [1, 2, 3]},\n",
              "                   random_state=0, scoring='accuracy', verbose=2)"
            ]
          },
          "metadata": {},
          "execution_count": 214
        }
      ]
    },
    {
      "cell_type": "code",
      "source": [
        "print(cv.best_estimator_)"
      ],
      "metadata": {
        "colab": {
          "base_uri": "https://localhost:8080/"
        },
        "id": "0uBFuQdEjcGq",
        "outputId": "1e5d59b0-0adb-4f59-c4b4-aa863bc932fe"
      },
      "execution_count": 215,
      "outputs": [
        {
          "output_type": "stream",
          "name": "stdout",
          "text": [
            "KNeighborsClassifier(leaf_size=5, n_neighbors=21, p=3)\n"
          ]
        }
      ]
    },
    {
      "cell_type": "code",
      "source": [
        "model = KNeighborsClassifier(leaf_size=5, n_neighbors=21, p=3)\n",
        "model.fit(train_X, train_Y)\n",
        "print(model.score(test_X, test_Y))"
      ],
      "metadata": {
        "colab": {
          "base_uri": "https://localhost:8080/"
        },
        "id": "tcLzcsE6jtAL",
        "outputId": "7ff43fe7-ccd6-4812-db92-e8e4b4d1a76b"
      },
      "execution_count": 219,
      "outputs": [
        {
          "output_type": "stream",
          "name": "stdout",
          "text": [
            "0.7764960346070656\n"
          ]
        }
      ]
    },
    {
      "cell_type": "markdown",
      "source": [
        "XGboost  and random forest classifier perform similarly well. My result is probably near to the optimal one (since the results in the competition are near 0.8, measured by accuracy). KNN is the worst, but I think that this is not really surprising - there are quite a few features, so that might be the reason. I theoretically could use one of the methods for reducing feature count, but I think that this is out of scope for this exercise. I didn't use neural networks, as I believe they don't work well for tabular problems. Low accuracy may be caused by for example inbalance in data - it can be observed for example, that the amount of cabins on different levels differs a lot."
      ],
      "metadata": {
        "id": "VQW5CRKzm4TO"
      }
    }
  ],
  "metadata": {
    "colab": {
      "collapsed_sections": [],
      "name": "spaceship_titanic.ipynb",
      "provenance": []
    },
    "kernelspec": {
      "display_name": "Python 3",
      "name": "python3"
    },
    "language_info": {
      "name": "python"
    }
  },
  "nbformat": 4,
  "nbformat_minor": 0
}