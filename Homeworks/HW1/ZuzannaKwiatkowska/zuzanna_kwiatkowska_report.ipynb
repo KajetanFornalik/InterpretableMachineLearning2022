{
 "cells": [
  {
   "cell_type": "markdown",
   "metadata": {
    "id": "xxSTkF17HaSv"
   },
   "source": [
    "# Classification of Breast Cancer Severity\n",
    "\n",
    "In this report I'm going to analyze the **UCI ML Breast Cancer Wisconsin** dataset provided in Python's scikit learn library as one of the toy datasets.\n",
    "\n",
    "This dataset was created with the help of 569 patients with breast cancer who underwent the FNA procedure. The procedure, used for lumps investigation, involves inserting a needle into the lump in order to analyze the cells inside it. Having digitized images of those **cells**, the authors of dataset defined **30 numerical features to describe them** in order to **predict the severity of breast cancer**. Severity is expressed as **2 classes discriminating between benign and malignant cancer**.\n",
    "\n",
    "Source: [Sci-Kit Learn Documentation](https://scikit-learn.org/stable/datasets/toy_dataset.html#breast-cancer-dataset)"
   ]
  },
  {
   "cell_type": "code",
   "execution_count": 1,
   "metadata": {},
   "outputs": [],
   "source": [
    "import warnings\n",
    "warnings.filterwarnings('ignore')"
   ]
  },
  {
   "cell_type": "code",
   "execution_count": 2,
   "metadata": {
    "executionInfo": {
     "elapsed": 4,
     "status": "ok",
     "timestamp": 1646925282803,
     "user": {
      "displayName": "Zuzanna Kwiatkowska",
      "photoUrl": "https://lh3.googleusercontent.com/a-/AOh14Ggs7PoHggMZCkbo6097Zh61I6SsR13EJWRB7LgkDQ=s64",
      "userId": "16068439687133878241"
     },
     "user_tz": -60
    },
    "id": "o-tAbt-aZqX4"
   },
   "outputs": [],
   "source": [
    "from sklearn.datasets import load_breast_cancer\n",
    "from sklearn.feature_selection import mutual_info_classif\n",
    "from sklearn.model_selection import train_test_split, StratifiedKFold\n",
    "from sklearn.decomposition import PCA\n",
    "from sklearn.linear_model import LogisticRegression\n",
    "from sklearn.neural_network import MLPClassifier\n",
    "from sklearn.metrics import f1_score, roc_auc_score, confusion_matrix\n",
    "\n",
    "from matplotlib import pyplot as plt\n",
    "from matplotlib.lines import Line2D\n",
    "\n",
    "import pandas as pd\n",
    "import seaborn as sns\n",
    "import numpy as np\n",
    "\n",
    "import xgboost"
   ]
  },
  {
   "cell_type": "code",
   "execution_count": 3,
   "metadata": {},
   "outputs": [],
   "source": [
    "np.random.seed(1)"
   ]
  },
  {
   "cell_type": "markdown",
   "metadata": {
    "id": "lS63q0eRLAXz"
   },
   "source": [
    "First thing I do after loading the data is a normalisation step. I opted for using min-max normalisation due to the fact that:\n",
    "- I do not assume (or know) anything about distributions of specific features,\n",
    "- some classification algorithms that I'm planning to use are prone to high values' differences."
   ]
  },
  {
   "cell_type": "code",
   "execution_count": 4,
   "metadata": {
    "executionInfo": {
     "elapsed": 236,
     "status": "ok",
     "timestamp": 1646921803115,
     "user": {
      "displayName": "Zuzanna Kwiatkowska",
      "photoUrl": "https://lh3.googleusercontent.com/a-/AOh14Ggs7PoHggMZCkbo6097Zh61I6SsR13EJWRB7LgkDQ=s64",
      "userId": "16068439687133878241"
     },
     "user_tz": -60
    },
    "id": "KqrhSW3wZwGQ"
   },
   "outputs": [],
   "source": [
    "data = load_breast_cancer(as_frame=True)\n",
    "data, target = data[\"data\"], data[\"target\"]\n",
    "data = (data - data.min(axis=0)) / (data.max(axis=0) - data.min(axis=0))"
   ]
  },
  {
   "cell_type": "code",
   "execution_count": 5,
   "metadata": {
    "colab": {
     "base_uri": "https://localhost:8080/"
    },
    "executionInfo": {
     "elapsed": 228,
     "status": "ok",
     "timestamp": 1646921818328,
     "user": {
      "displayName": "Zuzanna Kwiatkowska",
      "photoUrl": "https://lh3.googleusercontent.com/a-/AOh14Ggs7PoHggMZCkbo6097Zh61I6SsR13EJWRB7LgkDQ=s64",
      "userId": "16068439687133878241"
     },
     "user_tz": -60
    },
    "id": "IFxVLs-TMI6P",
    "outputId": "2395e5c6-3ddb-4609-98d2-2eb09119cdce"
   },
   "outputs": [
    {
     "data": {
      "text/plain": [
       "Index(['mean radius', 'mean texture', 'mean perimeter', 'mean area',\n",
       "       'mean smoothness', 'mean compactness', 'mean concavity',\n",
       "       'mean concave points', 'mean symmetry', 'mean fractal dimension',\n",
       "       'radius error', 'texture error', 'perimeter error', 'area error',\n",
       "       'smoothness error', 'compactness error', 'concavity error',\n",
       "       'concave points error', 'symmetry error', 'fractal dimension error',\n",
       "       'worst radius', 'worst texture', 'worst perimeter', 'worst area',\n",
       "       'worst smoothness', 'worst compactness', 'worst concavity',\n",
       "       'worst concave points', 'worst symmetry', 'worst fractal dimension'],\n",
       "      dtype='object')"
      ]
     },
     "execution_count": 5,
     "metadata": {},
     "output_type": "execute_result"
    }
   ],
   "source": [
    "data.columns"
   ]
  },
  {
   "cell_type": "markdown",
   "metadata": {
    "id": "KpBhdvt8sRxT"
   },
   "source": [
    "There are 30 features in the dataset, so, due to the fact I don't have any domain knowledge, I decided to perform feature selection analysis to reduce their number to make it more understandable. My criterion will be purely numerical and I'm going to analyze the contribution of each class towards the cancer discrimination.\n",
    "\n",
    "However, one particular thing we can observe from the variables naming is the fact that:\n",
    "- we have 3 types of feature measurement (mean, error, worst),\n",
    "- we have (in principal) 10 major features (radius, texture, perimeter, area, smoothness, compactness, concavity, concave points, symmetry and fractal dimension).\n",
    "\n",
    "This observation may lead us to hypothesis that there's a high chance of highly correlated variables in our dataset."
   ]
  },
  {
   "cell_type": "code",
   "execution_count": 6,
   "metadata": {
    "colab": {
     "base_uri": "https://localhost:8080/"
    },
    "executionInfo": {
     "elapsed": 30,
     "status": "ok",
     "timestamp": 1646920373846,
     "user": {
      "displayName": "Zuzanna Kwiatkowska",
      "photoUrl": "https://lh3.googleusercontent.com/a-/AOh14Ggs7PoHggMZCkbo6097Zh61I6SsR13EJWRB7LgkDQ=s64",
      "userId": "16068439687133878241"
     },
     "user_tz": -60
    },
    "id": "y0c5Gkdsbz0U",
    "outputId": "b009c56b-ee92-44e8-a223-6974cf807841"
   },
   "outputs": [
    {
     "data": {
      "text/plain": [
       "1    62.74\n",
       "0    37.26\n",
       "Name: target, dtype: float64"
      ]
     },
     "execution_count": 6,
     "metadata": {},
     "output_type": "execute_result"
    }
   ],
   "source": [
    "target.value_counts(normalize=True).apply(lambda x: round(x * 100, 2))"
   ]
  },
  {
   "cell_type": "markdown",
   "metadata": {
    "id": "MRMbXnS7dHQ4"
   },
   "source": [
    "Due to the fact the data come from medical domain, I'm checking for a potential imbalance within a target variable. The ratio of classes is 3:2 and, due to the fact it's relatively small, I decided to ignore this slight imbalance.\n",
    "\n",
    "Also, based on classes proportion and the knowledge from dataset documentation, I will further assume that classes will be assigned as:\n",
    "- 0 - malignant tumor (meaning the patient condition is bad),\n",
    "- 1 - benign tumor (meaning the patient condition is relatively good).\n",
    "\n",
    "Additionally I checked for potential null values in the dataset, but none were found."
   ]
  },
  {
   "cell_type": "code",
   "execution_count": 7,
   "metadata": {
    "colab": {
     "base_uri": "https://localhost:8080/"
    },
    "executionInfo": {
     "elapsed": 397,
     "status": "ok",
     "timestamp": 1646922738115,
     "user": {
      "displayName": "Zuzanna Kwiatkowska",
      "photoUrl": "https://lh3.googleusercontent.com/a-/AOh14Ggs7PoHggMZCkbo6097Zh61I6SsR13EJWRB7LgkDQ=s64",
      "userId": "16068439687133878241"
     },
     "user_tz": -60
    },
    "id": "Tow9UW0g15qC",
    "outputId": "9c167ca6-dd08-4f8f-a285-4f72863600f5"
   },
   "outputs": [
    {
     "data": {
      "text/plain": [
       "False"
      ]
     },
     "execution_count": 7,
     "metadata": {},
     "output_type": "execute_result"
    }
   ],
   "source": [
    "data.isnull().values.any()"
   ]
  },
  {
   "cell_type": "markdown",
   "metadata": {
    "id": "3kZ0e7DPdJJM"
   },
   "source": [
    "For measuring model performance, I decided to use 10-fold cross validation. However, as I'm planning to firstly test some hypotheses regarding feature importance, I decided to choose 10% of the dataset at random for doing so.\n",
    "\n",
    "This is because I could either:\n",
    "- test hypotheses for each fold - which sounds a bit cumbersome in this particular example,\n",
    "- test hypotheses for the whole data - but then I would make assumptions based on data that would be further used for testing (which is considered bad practice).\n",
    "\n",
    "The 10% sample used for hypotheses testing will be used only for that and discarded in further cross validation setup. I also make sure that target distibution in this sample is the same as in the whole dataset."
   ]
  },
  {
   "cell_type": "code",
   "execution_count": 8,
   "metadata": {
    "executionInfo": {
     "elapsed": 343,
     "status": "ok",
     "timestamp": 1646923087447,
     "user": {
      "displayName": "Zuzanna Kwiatkowska",
      "photoUrl": "https://lh3.googleusercontent.com/a-/AOh14Ggs7PoHggMZCkbo6097Zh61I6SsR13EJWRB7LgkDQ=s64",
      "userId": "16068439687133878241"
     },
     "user_tz": -60
    },
    "id": "QfIMUweUhBAJ"
   },
   "outputs": [],
   "source": [
    "target_hypothesis = target.sample(frac=0.1)\n",
    "data_hypothesis = data[data.index.isin(target_hypothesis.index)]\n",
    "data = data.drop(index=target_hypothesis.index)\n",
    "target = target.drop(index=target_hypothesis.index)"
   ]
  },
  {
   "cell_type": "code",
   "execution_count": 9,
   "metadata": {
    "colab": {
     "base_uri": "https://localhost:8080/"
    },
    "executionInfo": {
     "elapsed": 369,
     "status": "ok",
     "timestamp": 1646923088832,
     "user": {
      "displayName": "Zuzanna Kwiatkowska",
      "photoUrl": "https://lh3.googleusercontent.com/a-/AOh14Ggs7PoHggMZCkbo6097Zh61I6SsR13EJWRB7LgkDQ=s64",
      "userId": "16068439687133878241"
     },
     "user_tz": -60
    },
    "id": "jrVTMpI_hDTU",
    "outputId": "ccc50ea4-2aae-492e-e0fd-3b3386e50bd3"
   },
   "outputs": [
    {
     "name": "stdout",
     "output_type": "stream",
     "text": [
      "1    59.65\n",
      "0    40.35\n",
      "Name: target, dtype: float64\n",
      "Train size: 512\n",
      "Hypothesis size: 57\n"
     ]
    }
   ],
   "source": [
    "print(target_hypothesis.value_counts(normalize=True).apply(lambda x: round(x * 100, 2)))\n",
    "print(f\"Train size: {len(data)}\")\n",
    "assert len(data) == len(target)\n",
    "print(f\"Hypothesis size: {len(data_hypothesis)}\")\n",
    "assert len(data_hypothesis) == len(target_hypothesis)"
   ]
  },
  {
   "cell_type": "markdown",
   "metadata": {
    "id": "V1OKuvWtXsSq"
   },
   "source": [
    "## Feature selection"
   ]
  },
  {
   "cell_type": "markdown",
   "metadata": {
    "id": "DN2h9H3ojymE"
   },
   "source": [
    "My first intuition is to plot the dataset in a lower dimensional space using Principal Component Analysis transformation."
   ]
  },
  {
   "cell_type": "code",
   "execution_count": 10,
   "metadata": {
    "executionInfo": {
     "elapsed": 233,
     "status": "ok",
     "timestamp": 1646923133036,
     "user": {
      "displayName": "Zuzanna Kwiatkowska",
      "photoUrl": "https://lh3.googleusercontent.com/a-/AOh14Ggs7PoHggMZCkbo6097Zh61I6SsR13EJWRB7LgkDQ=s64",
      "userId": "16068439687133878241"
     },
     "user_tz": -60
    },
    "id": "3C_kNuRBff4X"
   },
   "outputs": [],
   "source": [
    "pca = PCA(n_components=2)\n",
    "reduced_data_hypothesis = pca.fit_transform(data_hypothesis)"
   ]
  },
  {
   "cell_type": "code",
   "execution_count": 11,
   "metadata": {
    "colab": {
     "base_uri": "https://localhost:8080/",
     "height": 696
    },
    "executionInfo": {
     "elapsed": 1758,
     "status": "ok",
     "timestamp": 1646923137472,
     "user": {
      "displayName": "Zuzanna Kwiatkowska",
      "photoUrl": "https://lh3.googleusercontent.com/a-/AOh14Ggs7PoHggMZCkbo6097Zh61I6SsR13EJWRB7LgkDQ=s64",
      "userId": "16068439687133878241"
     },
     "user_tz": -60
    },
    "id": "DQd7FRSQi6LX",
    "outputId": "24471d04-90fb-4654-8b1d-23bbe423d062"
   },
   "outputs": [
    {
     "data": {
      "text/plain": [
       "<matplotlib.legend.Legend at 0x7fda001e4a00>"
      ]
     },
     "execution_count": 11,
     "metadata": {},
     "output_type": "execute_result"
    },
    {
     "data": {
      "image/png": "[encoded data removed]",
      "text/plain": [
       "<Figure size 2000x1000 with 1 Axes>"
      ]
     },
     "metadata": {},
     "output_type": "display_data"
    }
   ],
   "source": [
    "plt.style.use(\"ggplot\")\n",
    "plt.figure(figsize=(10, 5), dpi=200)\n",
    "plt.scatter(*reduced_data_hypothesis.T, c=target_hypothesis.apply(lambda x: \"#EE6060\" if x == 0 else \"#5A64E5\"))\n",
    "\n",
    "legend_elements = [Line2D([0], [0], marker='o', color='#EE6060', label='malignant'),\n",
    "                   Line2D([0], [0], marker='o', color='#5A64E5', label='benign')]\n",
    "plt.legend(handles=legend_elements)"
   ]
  },
  {
   "cell_type": "markdown",
   "metadata": {
    "id": "bRsQylObk3St"
   },
   "source": [
    "We can already see that some of malignant cases resemble benign ones. This is why we should later properly choose performance metric for our model, due to the fact that there's a higher risk in predicting malignant tumor as benign instead of other way round.\n",
    "\n",
    "For assessing feature redundancy with respect to target variable I decided to use a mutual information measure, which would measure the dependence between each feature and target variable. I decided to use it as something more general than simple correlation.\n",
    "\n",
    "Firstly, I remove all features which show zero dependence with target variable."
   ]
  },
  {
   "cell_type": "code",
   "execution_count": 12,
   "metadata": {
    "colab": {
     "base_uri": "https://localhost:8080/"
    },
    "executionInfo": {
     "elapsed": 258,
     "status": "ok",
     "timestamp": 1646923571722,
     "user": {
      "displayName": "Zuzanna Kwiatkowska",
      "photoUrl": "https://lh3.googleusercontent.com/a-/AOh14Ggs7PoHggMZCkbo6097Zh61I6SsR13EJWRB7LgkDQ=s64",
      "userId": "16068439687133878241"
     },
     "user_tz": -60
    },
    "id": "UCtPB6cHkQgV",
    "outputId": "41c7ea0a-c111-47f7-9e4d-9c7da4f5acc4"
   },
   "outputs": [
    {
     "name": "stdout",
     "output_type": "stream",
     "text": [
      "Columns reduced from 30 to 19.\n"
     ]
    }
   ],
   "source": [
    "mutual_information = mutual_info_classif(data_hypothesis, target_hypothesis, copy=True)\n",
    "new_columns = [column for idx, column in enumerate(data.columns) if mutual_information[idx] > 0]\n",
    "\n",
    "print(f\"Columns reduced from {len(data.columns)} to {len(new_columns)}.\")\n",
    "\n",
    "data = data[new_columns]\n",
    "data_hypothesis = data_hypothesis[new_columns]"
   ]
  },
  {
   "cell_type": "markdown",
   "metadata": {
    "id": "PLSL_DUjqwd7"
   },
   "source": [
    "For identification of redundancy between features I decided to use simple correlation, because I hypothesize that we might find linear relations between features that are in a sense proportionate to each other (like radius and area of cells)."
   ]
  },
  {
   "cell_type": "code",
   "execution_count": 13,
   "metadata": {
    "colab": {
     "base_uri": "https://localhost:8080/",
     "height": 721
    },
    "executionInfo": {
     "elapsed": 836,
     "status": "ok",
     "timestamp": 1646923787098,
     "user": {
      "displayName": "Zuzanna Kwiatkowska",
      "photoUrl": "https://lh3.googleusercontent.com/a-/AOh14Ggs7PoHggMZCkbo6097Zh61I6SsR13EJWRB7LgkDQ=s64",
      "userId": "16068439687133878241"
     },
     "user_tz": -60
    },
    "id": "zVe5JD7hqgFj",
    "outputId": "789a7ebd-9f54-41d9-8cdd-8067056039c9"
   },
   "outputs": [
    {
     "data": {
      "text/plain": [
       "<AxesSubplot:>"
      ]
     },
     "execution_count": 13,
     "metadata": {},
     "output_type": "execute_result"
    },
    {
     "data": {
      "image/png": "[encoded data removed]",
      "text/plain": [
       "<Figure size 1440x720 with 2 Axes>"
      ]
     },
     "metadata": {},
     "output_type": "display_data"
    }
   ],
   "source": [
    "fig, ax = plt.subplots(figsize=(20,10))\n",
    "sns.heatmap(data_hypothesis.corr(), ax=ax, cmap=\"hot_r\")"
   ]
  },
  {
   "cell_type": "markdown",
   "metadata": {
    "id": "U32gdYoyslME"
   },
   "source": [
    "We can easily notice some strong correlations between variables (significant ones lie outside of diagonal). I decided to exclude the variables further in a following manner:\n",
    "- check which variables have high correlation (within clusters of them, so not necessarily pair-wise),\n",
    "- choose 1 within a cluster which has highest mutual information with target variable.\n",
    "\n",
    "Based on the heatmap we can identify following groups of high correlation:\n",
    "- mean/worst radius/perimeter/area (6 variables),\n",
    "- radius/area error (2 variables),\n",
    "- worst compactness/concavity (2 variables),\n",
    "- compactness/concavity error (2 variables)."
   ]
  },
  {
   "cell_type": "code",
   "execution_count": 14,
   "metadata": {
    "colab": {
     "base_uri": "https://localhost:8080/"
    },
    "executionInfo": {
     "elapsed": 394,
     "status": "ok",
     "timestamp": 1646924005653,
     "user": {
      "displayName": "Zuzanna Kwiatkowska",
      "photoUrl": "https://lh3.googleusercontent.com/a-/AOh14Ggs7PoHggMZCkbo6097Zh61I6SsR13EJWRB7LgkDQ=s64",
      "userId": "16068439687133878241"
     },
     "user_tz": -60
    },
    "id": "BoRa1C_vqzL5",
    "outputId": "f8505592-d2c4-4c12-b065-aa4913b5f4c6"
   },
   "outputs": [
    {
     "name": "stdout",
     "output_type": "stream",
     "text": [
      "[0.07403964 0.11612742 0.05178324 0.07194096 0.04541719 0.04084934]\n",
      "[0.0377241  0.01489493]\n",
      "[0.0167831  0.00310979]\n",
      "[0.05054783 0.01993595]\n"
     ]
    }
   ],
   "source": [
    "mutual_information = mutual_info_classif(data_hypothesis, target_hypothesis, copy=True)\n",
    "\n",
    "# mean/worst radius/perimeter/area cluster\n",
    "print(mutual_information[[0, 2, 3, 12, 13, 14]])\n",
    "\n",
    "# radius/area error\n",
    "print(mutual_information[[5, 6]])\n",
    "\n",
    "# worst compactness/concavity\n",
    "print(mutual_information[[16, 17]])\n",
    "\n",
    "# compactness/concavity error\n",
    "print(mutual_information[[8, 9]])"
   ]
  },
  {
   "cell_type": "code",
   "execution_count": 15,
   "metadata": {
    "colab": {
     "base_uri": "https://localhost:8080/"
    },
    "executionInfo": {
     "elapsed": 263,
     "status": "ok",
     "timestamp": 1646924027232,
     "user": {
      "displayName": "Zuzanna Kwiatkowska",
      "photoUrl": "https://lh3.googleusercontent.com/a-/AOh14Ggs7PoHggMZCkbo6097Zh61I6SsR13EJWRB7LgkDQ=s64",
      "userId": "16068439687133878241"
     },
     "user_tz": -60
    },
    "id": "Wccjb7JJtBQH",
    "outputId": "e7c869c5-a788-44ee-b7a5-aed3a89d6b3d"
   },
   "outputs": [
    {
     "name": "stdout",
     "output_type": "stream",
     "text": [
      "Columns reduced from 19 to 11.\n"
     ]
    }
   ],
   "source": [
    "to_drop = [\"mean area\", \"mean radius\", \"worst area\", \"worst radius\", \"worst perimeter\", \"area error\", \"worst concavity\", \"concavity error\"]\n",
    "\n",
    "print(f\"Columns reduced from {len(data.columns)} to {len(data.columns) - len(to_drop)}.\")\n",
    "\n",
    "data = data.drop(columns=to_drop)\n",
    "data_hypothesis = data_hypothesis.drop(columns=to_drop)"
   ]
  },
  {
   "cell_type": "markdown",
   "metadata": {
    "id": "K3CqZW9l36VX"
   },
   "source": [
    "Last but not least, based on values of mutual information, I decided to exclude variables with less than 0.02 MI as something which, in my opinion, would not contribute in any way to the models."
   ]
  },
  {
   "cell_type": "code",
   "execution_count": 16,
   "metadata": {
    "colab": {
     "base_uri": "https://localhost:8080/"
    },
    "executionInfo": {
     "elapsed": 239,
     "status": "ok",
     "timestamp": 1646924115735,
     "user": {
      "displayName": "Zuzanna Kwiatkowska",
      "photoUrl": "https://lh3.googleusercontent.com/a-/AOh14Ggs7PoHggMZCkbo6097Zh61I6SsR13EJWRB7LgkDQ=s64",
      "userId": "16068439687133878241"
     },
     "user_tz": -60
    },
    "id": "n1a7Cb_4yZCp",
    "outputId": "4ab878e4-5e60-421e-b7d6-e4128113b5eb"
   },
   "outputs": [
    {
     "name": "stdout",
     "output_type": "stream",
     "text": [
      "Columns reduced from 11 to 8.\n"
     ]
    }
   ],
   "source": [
    "mutual_information = mutual_info_classif(data_hypothesis, target_hypothesis, copy=True)\n",
    "new_columns = [column for idx, column in enumerate(data.columns) if mutual_information[idx] > 0.02]\n",
    "\n",
    "print(f\"Columns reduced from {len(data.columns)} to {len(new_columns)}.\")\n",
    "\n",
    "data = data[new_columns]\n",
    "data_hypothesis = data_hypothesis[new_columns]"
   ]
  },
  {
   "cell_type": "markdown",
   "metadata": {
    "id": "j4ZraOuHU9t6"
   },
   "source": [
    "The following procedure reduces number of features from 30 to 8 which, in my opinion, increases the understanding/readability of the models (especially those that have intuitive interpretation coming from the model structure)."
   ]
  },
  {
   "cell_type": "code",
   "execution_count": 17,
   "metadata": {
    "colab": {
     "base_uri": "https://localhost:8080/"
    },
    "executionInfo": {
     "elapsed": 359,
     "status": "ok",
     "timestamp": 1646924281399,
     "user": {
      "displayName": "Zuzanna Kwiatkowska",
      "photoUrl": "https://lh3.googleusercontent.com/a-/AOh14Ggs7PoHggMZCkbo6097Zh61I6SsR13EJWRB7LgkDQ=s64",
      "userId": "16068439687133878241"
     },
     "user_tz": -60
    },
    "id": "PW4sF4GG4XQx",
    "outputId": "7f729046-d819-4bbd-94f8-770e43c02c64"
   },
   "outputs": [
    {
     "data": {
      "text/plain": [
       "Index(['mean texture', 'mean perimeter', 'radius error', 'smoothness error',\n",
       "       'compactness error', 'symmetry error', 'fractal dimension error',\n",
       "       'worst smoothness'],\n",
       "      dtype='object')"
      ]
     },
     "execution_count": 17,
     "metadata": {},
     "output_type": "execute_result"
    }
   ],
   "source": [
    "data.columns"
   ]
  },
  {
   "cell_type": "markdown",
   "metadata": {
    "id": "OnR6LKrNVe8V"
   },
   "source": [
    "The features that will be taken into account in the analysis will be (mean/worst/error is calculated based on all cells in a FNA image):\n",
    "- texture (mean) - gray-scale deviation of a cell (averaged from couple of points within a cell),\n",
    "- perimeter (mean) - perimeter of a cell,\n",
    "- radius (error) - radius of a cell (averaged from couple of points within the cell),\n",
    "- smoothness (error, worst) - radius variations within a cell,\n",
    "- compactness (error) - perimeter/area based formula,\n",
    "- symmetry (error) - symmetry of a cell,\n",
    "- fractal dimension (error) - fractal-based measure of perimeter."
   ]
  },
  {
   "cell_type": "code",
   "execution_count": 18,
   "metadata": {
    "executionInfo": {
     "elapsed": 361,
     "status": "ok",
     "timestamp": 1646924814513,
     "user": {
      "displayName": "Zuzanna Kwiatkowska",
      "photoUrl": "https://lh3.googleusercontent.com/a-/AOh14Ggs7PoHggMZCkbo6097Zh61I6SsR13EJWRB7LgkDQ=s64",
      "userId": "16068439687133878241"
     },
     "user_tz": -60
    },
    "id": "F3FnJtKpA0dv"
   },
   "outputs": [],
   "source": [
    "data = data.reset_index(drop=True)\n",
    "target = target.reset_index(drop=True)"
   ]
  },
  {
   "cell_type": "markdown",
   "metadata": {
    "id": "qOswlyXL1aFv"
   },
   "source": [
    "## Models"
   ]
  },
  {
   "cell_type": "markdown",
   "metadata": {
    "id": "iAPp4ANQ5Av9"
   },
   "source": [
    "For 3 distinctive models I decided to use: Logistic Regression, XGBoost and Multi-Layered Perceptron (MLP).\n",
    "\n",
    "As mentioned above, for performance measurement I will be using 10-fold Cross Validation. I create the division firstly to make sure the same folds are used in all trainings."
   ]
  },
  {
   "cell_type": "code",
   "execution_count": 19,
   "metadata": {
    "colab": {
     "base_uri": "https://localhost:8080/"
    },
    "executionInfo": {
     "elapsed": 245,
     "status": "ok",
     "timestamp": 1646924966543,
     "user": {
      "displayName": "Zuzanna Kwiatkowska",
      "photoUrl": "https://lh3.googleusercontent.com/a-/AOh14Ggs7PoHggMZCkbo6097Zh61I6SsR13EJWRB7LgkDQ=s64",
      "userId": "16068439687133878241"
     },
     "user_tz": -60
    },
    "id": "Bh1jpruh1Vc4",
    "outputId": "5c9440de-7d45-4c2a-8f4f-adef833ccfae"
   },
   "outputs": [
    {
     "name": "stdout",
     "output_type": "stream",
     "text": [
      "TRAIN: 460 TEST: 52\n",
      "TRAIN: 460 TEST: 52\n",
      "TRAIN: 461 TEST: 51\n",
      "TRAIN: 461 TEST: 51\n",
      "TRAIN: 461 TEST: 51\n",
      "TRAIN: 461 TEST: 51\n",
      "TRAIN: 461 TEST: 51\n",
      "TRAIN: 461 TEST: 51\n",
      "TRAIN: 461 TEST: 51\n",
      "TRAIN: 461 TEST: 51\n"
     ]
    }
   ],
   "source": [
    "skf = StratifiedKFold(n_splits=10)\n",
    "\n",
    "for train_index, test_index in skf.split(data, target):\n",
    "    print(\"TRAIN:\", len(train_index), \"TEST:\", len(test_index))"
   ]
  },
  {
   "cell_type": "markdown",
   "metadata": {
    "id": "JEDvXNyHYNSD"
   },
   "source": [
    "For measuring model performance, I decided to use 3 metrics:\n",
    "- F1 score - which would reduce the problem of slight imbalance that we have when calculating metrics (the higher, the better),\n",
    "- AUC score - which tells us how capable model is of distinguishing between malignant and benign tumor (the higher, the better),\n",
    "- False Positive Rate - which would tell us how many malignant cases we actually predict as benign (the lower, the better).\n",
    "\n",
    "First 2 metrics are available in Sci-Kit package, while the third one I implement on my own. \n",
    "\n",
    "I also create metrics placeholders for further analysis."
   ]
  },
  {
   "cell_type": "code",
   "execution_count": 20,
   "metadata": {
    "executionInfo": {
     "elapsed": 259,
     "status": "ok",
     "timestamp": 1646925468693,
     "user": {
      "displayName": "Zuzanna Kwiatkowska",
      "photoUrl": "https://lh3.googleusercontent.com/a-/AOh14Ggs7PoHggMZCkbo6097Zh61I6SsR13EJWRB7LgkDQ=s64",
      "userId": "16068439687133878241"
     },
     "user_tz": -60
    },
    "id": "ObVS7JtWZHD-"
   },
   "outputs": [],
   "source": [
    "def fpr_score(y_true, y_pred):\n",
    "  tn, fp, _, _ = confusion_matrix(y_true, y_pred).ravel()\n",
    "  return fp / (fp + tn)"
   ]
  },
  {
   "cell_type": "code",
   "execution_count": 21,
   "metadata": {
    "executionInfo": {
     "elapsed": 246,
     "status": "ok",
     "timestamp": 1646925470971,
     "user": {
      "displayName": "Zuzanna Kwiatkowska",
      "photoUrl": "https://lh3.googleusercontent.com/a-/AOh14Ggs7PoHggMZCkbo6097Zh61I6SsR13EJWRB7LgkDQ=s64",
      "userId": "16068439687133878241"
     },
     "user_tz": -60
    },
    "id": "-jXmDobLEX7Y"
   },
   "outputs": [],
   "source": [
    "fpr = {\"logistic regression\": [], \"xgboost\": [], \"mlp\": []}\n",
    "f1 = {\"logistic regression\": [], \"xgboost\": [], \"mlp\": []}\n",
    "auc = {\"logistic regression\": [], \"xgboost\": [], \"mlp\": []}"
   ]
  },
  {
   "cell_type": "markdown",
   "metadata": {
    "id": "DXwuWWv4Zyj7"
   },
   "source": [
    "Below, for each type of model, I perform exactly the same procedure:\n",
    "- I train each type on each of 10 folds,\n",
    "- I do not tune any of the types (I use default model),\n",
    "- I save results of all 3 metrics for each fold."
   ]
  },
  {
   "cell_type": "markdown",
   "metadata": {
    "id": "LnQJE69k7fa6"
   },
   "source": [
    "### Logistic regression"
   ]
  },
  {
   "cell_type": "code",
   "execution_count": 22,
   "metadata": {
    "executionInfo": {
     "elapsed": 253,
     "status": "ok",
     "timestamp": 1646925484490,
     "user": {
      "displayName": "Zuzanna Kwiatkowska",
      "photoUrl": "https://lh3.googleusercontent.com/a-/AOh14Ggs7PoHggMZCkbo6097Zh61I6SsR13EJWRB7LgkDQ=s64",
      "userId": "16068439687133878241"
     },
     "user_tz": -60
    },
    "id": "sZslcT_28D-Y"
   },
   "outputs": [],
   "source": [
    "for train_index, test_index in skf.split(data, target):\n",
    "\n",
    "    data_train, data_test = data.loc[train_index], data.loc[test_index]\n",
    "    target_train, target_test = target.loc[train_index], target.loc[test_index]\n",
    "\n",
    "    log_reg = LogisticRegression(max_iter=1e3).fit(data_train, target_train)\n",
    "    prediction_test = log_reg.predict(data_test)\n",
    "    proba_test = log_reg.predict_proba(data_test)[:, 1]\n",
    "\n",
    "    auc[\"logistic regression\"].append(roc_auc_score(target_test, proba_test))\n",
    "    fpr[\"logistic regression\"].append(fpr_score(target_test, prediction_test))\n",
    "    f1[\"logistic regression\"].append(f1_score(target_test, prediction_test))"
   ]
  },
  {
   "cell_type": "markdown",
   "metadata": {
    "id": "5--VkKuTB2MZ"
   },
   "source": [
    "### XGBoost"
   ]
  },
  {
   "cell_type": "code",
   "execution_count": 23,
   "metadata": {
    "executionInfo": {
     "elapsed": 1262,
     "status": "ok",
     "timestamp": 1646925503557,
     "user": {
      "displayName": "Zuzanna Kwiatkowska",
      "photoUrl": "https://lh3.googleusercontent.com/a-/AOh14Ggs7PoHggMZCkbo6097Zh61I6SsR13EJWRB7LgkDQ=s64",
      "userId": "16068439687133878241"
     },
     "user_tz": -60
    },
    "id": "7g1_l6DqB6wl"
   },
   "outputs": [],
   "source": [
    "for train_index, test_index in skf.split(data, target):\n",
    "\n",
    "    data_train, data_test = data.loc[train_index], data.loc[test_index]\n",
    "    target_train, target_test = target.loc[train_index], target.loc[test_index]\n",
    "\n",
    "    xgboost_model = xgboost.XGBClassifier(use_label_encoder=False, eval_metric=\"logloss\").fit(data_train, target_train)\n",
    "    prediction_test = xgboost_model.predict(data_test)\n",
    "    proba_test = xgboost_model.predict_proba(data_test)[:, 1]\n",
    "\n",
    "    auc[\"xgboost\"].append(roc_auc_score(target_test, proba_test))\n",
    "    fpr[\"xgboost\"].append(fpr_score(target_test, prediction_test))\n",
    "    f1[\"xgboost\"].append(f1_score(target_test, prediction_test))"
   ]
  },
  {
   "cell_type": "markdown",
   "metadata": {
    "id": "ieuP3h7IDL7q"
   },
   "source": [
    "### MLP"
   ]
  },
  {
   "cell_type": "code",
   "execution_count": 24,
   "metadata": {
    "executionInfo": {
     "elapsed": 31916,
     "status": "ok",
     "timestamp": 1646925548103,
     "user": {
      "displayName": "Zuzanna Kwiatkowska",
      "photoUrl": "https://lh3.googleusercontent.com/a-/AOh14Ggs7PoHggMZCkbo6097Zh61I6SsR13EJWRB7LgkDQ=s64",
      "userId": "16068439687133878241"
     },
     "user_tz": -60
    },
    "id": "NW3LMAzsC7eo"
   },
   "outputs": [],
   "source": [
    "for train_index, test_index in skf.split(data, target):\n",
    "\n",
    "    data_train, data_test = data.loc[train_index], data.loc[test_index]\n",
    "    target_train, target_test = target.loc[train_index], target.loc[test_index]\n",
    "\n",
    "    mlp = MLPClassifier(max_iter=1000).fit(data_train, target_train)\n",
    "    prediction_test = mlp.predict(data_test)\n",
    "    proba_test = mlp.predict_proba(data_test)[:, 1]\n",
    "\n",
    "    auc[\"mlp\"].append(roc_auc_score(target_test, proba_test))\n",
    "    fpr[\"mlp\"].append(fpr_score(target_test, prediction_test))\n",
    "    f1[\"mlp\"].append(f1_score(target_test, prediction_test))"
   ]
  },
  {
   "cell_type": "markdown",
   "metadata": {
    "id": "1710MbPrELDh"
   },
   "source": [
    "## Performance analysis"
   ]
  },
  {
   "cell_type": "markdown",
   "metadata": {
    "id": "bGLdIEhBazbq"
   },
   "source": [
    "I decided to compare models with respect to each metric using 2 types of plots:\n",
    "- box plot - to see the metric distribution based on all 10 folds,\n",
    "- bar plot - to see the final metric within each fold.\n",
    "\n",
    "I also analyse metric value averaged from all folds."
   ]
  },
  {
   "cell_type": "code",
   "execution_count": 25,
   "metadata": {
    "colab": {
     "base_uri": "https://localhost:8080/"
    },
    "executionInfo": {
     "elapsed": 234,
     "status": "ok",
     "timestamp": 1646925950066,
     "user": {
      "displayName": "Zuzanna Kwiatkowska",
      "photoUrl": "https://lh3.googleusercontent.com/a-/AOh14Ggs7PoHggMZCkbo6097Zh61I6SsR13EJWRB7LgkDQ=s64",
      "userId": "16068439687133878241"
     },
     "user_tz": -60
    },
    "id": "vd-7GFo1EH-O",
    "outputId": "e5c26271-8fa3-4278-9ffc-1351b2c1a97b"
   },
   "outputs": [
    {
     "data": {
      "text/plain": [
       "logistic regression    0.195322\n",
       "xgboost                0.084503\n",
       "mlp                    0.057895\n",
       "dtype: float64"
      ]
     },
     "execution_count": 25,
     "metadata": {},
     "output_type": "execute_result"
    }
   ],
   "source": [
    "fpr = pd.DataFrame(fpr)\n",
    "\n",
    "fpr.mean(axis=0)"
   ]
  },
  {
   "cell_type": "markdown",
   "metadata": {
    "id": "8_Q_Jzhgb9Qt"
   },
   "source": [
    "The averaged score would suggest that default MLP performs the best in terms of False Positive Rate - let's see if the plots confirm this."
   ]
  },
  {
   "cell_type": "code",
   "execution_count": 26,
   "metadata": {
    "colab": {
     "base_uri": "https://localhost:8080/",
     "height": 609
    },
    "executionInfo": {
     "elapsed": 492,
     "status": "ok",
     "timestamp": 1646925803325,
     "user": {
      "displayName": "Zuzanna Kwiatkowska",
      "photoUrl": "https://lh3.googleusercontent.com/a-/AOh14Ggs7PoHggMZCkbo6097Zh61I6SsR13EJWRB7LgkDQ=s64",
      "userId": "16068439687133878241"
     },
     "user_tz": -60
    },
    "id": "Kns7575JFOo5",
    "outputId": "aad7c39b-342b-4ff9-df2c-ff151856718d"
   },
   "outputs": [
    {
     "data": {
      "text/plain": [
       "<AxesSubplot:>"
      ]
     },
     "execution_count": 26,
     "metadata": {},
     "output_type": "execute_result"
    },
    {
     "data": {
      "image/png": "[encoded data removed]",
      "text/plain": [
       "<Figure size 1440x720 with 1 Axes>"
      ]
     },
     "metadata": {},
     "output_type": "display_data"
    }
   ],
   "source": [
    "fpr.boxplot(figsize=(20, 10))"
   ]
  },
  {
   "cell_type": "markdown",
   "metadata": {
    "id": "gvPoFftQbbaq"
   },
   "source": [
    "In terms of FPR, our Logistic Regression model performs the worst - there are folds in which more than 35% of malignant cases are classified as benign. Between XGBoost and MLP, XGBoost seem to have smaller score variability between the folds. MLP on the other hand tend to have smaller FPR value in some of the folds - the both have a similar worst case scenario though."
   ]
  },
  {
   "cell_type": "code",
   "execution_count": 27,
   "metadata": {
    "colab": {
     "base_uri": "https://localhost:8080/",
     "height": 605
    },
    "executionInfo": {
     "elapsed": 1721,
     "status": "ok",
     "timestamp": 1646926234076,
     "user": {
      "displayName": "Zuzanna Kwiatkowska",
      "photoUrl": "https://lh3.googleusercontent.com/a-/AOh14Ggs7PoHggMZCkbo6097Zh61I6SsR13EJWRB7LgkDQ=s64",
      "userId": "16068439687133878241"
     },
     "user_tz": -60
    },
    "id": "fq3HGrnpFQjC",
    "outputId": "f1998e68-3c1a-46c1-a308-be74d237a83c"
   },
   "outputs": [
    {
     "data": {
      "text/plain": [
       "<AxesSubplot:>"
      ]
     },
     "execution_count": 27,
     "metadata": {},
     "output_type": "execute_result"
    },
    {
     "data": {
      "image/png": "[encoded data removed]",
      "text/plain": [
       "<Figure size 1440x720 with 1 Axes>"
      ]
     },
     "metadata": {},
     "output_type": "display_data"
    }
   ],
   "source": [
    "fpr.plot.bar(figsize=(20, 10))"
   ]
  },
  {
   "cell_type": "markdown",
   "metadata": {
    "id": "ogevdtxjdNd2"
   },
   "source": [
    "Further with the bar plot we can additionaly see that MLP achieves a perfect score in 4 out of 10 folds in terms of FPR (in comparison to 1 for XGBoost), which would again make MLP safer to use in the medical setup.\n",
    "\n",
    "Next we analyze AUC."
   ]
  },
  {
   "cell_type": "code",
   "execution_count": 28,
   "metadata": {
    "colab": {
     "base_uri": "https://localhost:8080/"
    },
    "executionInfo": {
     "elapsed": 12,
     "status": "ok",
     "timestamp": 1646926463610,
     "user": {
      "displayName": "Zuzanna Kwiatkowska",
      "photoUrl": "https://lh3.googleusercontent.com/a-/AOh14Ggs7PoHggMZCkbo6097Zh61I6SsR13EJWRB7LgkDQ=s64",
      "userId": "16068439687133878241"
     },
     "user_tz": -60
    },
    "id": "1wtNg3eqFatQ",
    "outputId": "328a858f-2b2c-44ab-a05f-f7378cf8ad7e"
   },
   "outputs": [
    {
     "data": {
      "text/plain": [
       "logistic regression    0.987378\n",
       "xgboost                0.984785\n",
       "mlp                    0.984897\n",
       "dtype: float64"
      ]
     },
     "execution_count": 28,
     "metadata": {},
     "output_type": "execute_result"
    }
   ],
   "source": [
    "auc = pd.DataFrame(auc)\n",
    "\n",
    "auc.mean(axis=0)"
   ]
  },
  {
   "cell_type": "markdown",
   "metadata": {
    "id": "XnP0R3mId7ur"
   },
   "source": [
    "In the averaged case, AUC score does not tell us much - all models seem to have a good discrimination capabilities."
   ]
  },
  {
   "cell_type": "code",
   "execution_count": 29,
   "metadata": {
    "colab": {
     "base_uri": "https://localhost:8080/",
     "height": 609
    },
    "executionInfo": {
     "elapsed": 267,
     "status": "ok",
     "timestamp": 1646926534589,
     "user": {
      "displayName": "Zuzanna Kwiatkowska",
      "photoUrl": "https://lh3.googleusercontent.com/a-/AOh14Ggs7PoHggMZCkbo6097Zh61I6SsR13EJWRB7LgkDQ=s64",
      "userId": "16068439687133878241"
     },
     "user_tz": -60
    },
    "id": "BTfUfTrdFmdU",
    "outputId": "50315cbe-247e-4b91-f01e-c12f1816fe28"
   },
   "outputs": [
    {
     "data": {
      "text/plain": [
       "<AxesSubplot:>"
      ]
     },
     "execution_count": 29,
     "metadata": {},
     "output_type": "execute_result"
    },
    {
     "data": {
      "image/png": "[encoded data removed]",
      "text/plain": [
       "<Figure size 1440x720 with 1 Axes>"
      ]
     },
     "metadata": {},
     "output_type": "display_data"
    }
   ],
   "source": [
    "auc.boxplot(figsize=(20, 10))"
   ]
  },
  {
   "cell_type": "markdown",
   "metadata": {
    "id": "8b0ejEfweNzi"
   },
   "source": [
    "Similarly in the box plot, if we look at values on y axis, models seem not to differ that much. However, MLP tend to have higher values, although Logistic Regression seems to have smaller variability between folds, which could explain its better performance with this metric. There was no particular addition to AUC interpretation when using a bar plot, so I decided to skip it."
   ]
  },
  {
   "cell_type": "code",
   "execution_count": 30,
   "metadata": {
    "colab": {
     "base_uri": "https://localhost:8080/"
    },
    "executionInfo": {
     "elapsed": 305,
     "status": "ok",
     "timestamp": 1646926746835,
     "user": {
      "displayName": "Zuzanna Kwiatkowska",
      "photoUrl": "https://lh3.googleusercontent.com/a-/AOh14Ggs7PoHggMZCkbo6097Zh61I6SsR13EJWRB7LgkDQ=s64",
      "userId": "16068439687133878241"
     },
     "user_tz": -60
    },
    "id": "hdMTr3xXFrq-",
    "outputId": "2c6fef7f-c3f7-4e24-83f6-5251bd960f13"
   },
   "outputs": [
    {
     "data": {
      "text/plain": [
       "logistic regression    0.941954\n",
       "xgboost                0.959971\n",
       "mlp                    0.967571\n",
       "dtype: float64"
      ]
     },
     "execution_count": 30,
     "metadata": {},
     "output_type": "execute_result"
    }
   ],
   "source": [
    "f1 = pd.DataFrame(f1)\n",
    "\n",
    "f1.mean(axis=0)"
   ]
  },
  {
   "cell_type": "markdown",
   "metadata": {
    "id": "l4A_dv8KfApY"
   },
   "source": [
    "F1 averaged across folds suggest us that again MLP scores the highest among all models."
   ]
  },
  {
   "cell_type": "code",
   "execution_count": 31,
   "metadata": {
    "colab": {
     "base_uri": "https://localhost:8080/",
     "height": 609
    },
    "executionInfo": {
     "elapsed": 742,
     "status": "ok",
     "timestamp": 1646926812454,
     "user": {
      "displayName": "Zuzanna Kwiatkowska",
      "photoUrl": "https://lh3.googleusercontent.com/a-/AOh14Ggs7PoHggMZCkbo6097Zh61I6SsR13EJWRB7LgkDQ=s64",
      "userId": "16068439687133878241"
     },
     "user_tz": -60
    },
    "id": "szNIYOVPFu3V",
    "outputId": "7330315e-a2e5-4d6a-f3d5-e7172cac6164"
   },
   "outputs": [
    {
     "data": {
      "text/plain": [
       "<AxesSubplot:>"
      ]
     },
     "execution_count": 31,
     "metadata": {},
     "output_type": "execute_result"
    },
    {
     "data": {
      "image/png": "[encoded data removed]",
      "text/plain": [
       "<Figure size 1440x720 with 1 Axes>"
      ]
     },
     "metadata": {},
     "output_type": "display_data"
    }
   ],
   "source": [
    "f1.boxplot(figsize=(20, 10))"
   ]
  },
  {
   "cell_type": "markdown",
   "metadata": {
    "id": "0S0KBlmifdRt"
   },
   "source": [
    "Box plots additionaly explain why - MLP tends to have higher values of F1 in folds and it also has the highest minimum value of F1 for all folds (note outliers in XGBoost). However, XGBoost have some folds achieving a perfect F1 score which could be worth inspecting in case of potential models tuning. Similarly to AUC, bar plot that I decided to use previously does not provide any substantial addition to this interpretation."
   ]
  },
  {
   "cell_type": "markdown",
   "metadata": {
    "id": "d9UzkUv1gVYU"
   },
   "source": [
    "## Closing remarks\n",
    "\n",
    "Based on FPR and F1 analysis for those particular models, MLP seems to have the best performance - both in terms of general predictive power and reducing the risk of classifying a malignant tumor as benign. However, the FPR is yet to be reduced to the acceptable levels and could be used further as a leading metric for assessing model performance.\n",
    "\n",
    "Also, the discrepancies between the models could be a result of a chosen feature selection procedure - there is still a chance that models could contribute from the removed variables, so further work could include checking how models behave having a full information or removing features based on particular measure of model performance.\n",
    "\n",
    "Finally, the models were in its default state - meaning that there might actually be a benefit with procedures like hyperparameters tuning to increase their performance. Moreover, due to the fact that data is small and tabular, we could also use some simple AutoML techniques to find the best model instead of trying to engineer one and focus more on understanding the underlying data."
   ]
  }
 ],
 "metadata": {
  "colab": {
   "authorship_tag": "ABX9TyPqpaWz8hy+MGOlpnjXtFAd",
   "collapsed_sections": [],
   "name": "ZuzannaKwiatkowska.ipynb",
   "provenance": []
  },
  "kernelspec": {
   "display_name": "Python 3 (ipykernel)",
   "language": "python",
   "name": "python3"
  },
  "language_info": {
   "codemirror_mode": {
    "name": "ipython",
    "version": 3
   },
   "file_extension": ".py",
   "mimetype": "text/x-python",
   "name": "python",
   "nbconvert_exporter": "python",
   "pygments_lexer": "ipython3",
   "version": "3.8.10"
  }
 },
 "nbformat": 4,
 "nbformat_minor": 1
}
