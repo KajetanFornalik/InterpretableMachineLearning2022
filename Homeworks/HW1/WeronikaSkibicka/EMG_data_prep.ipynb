{
  "nbformat": 4,
  "nbformat_minor": 0,
  "metadata": {
    "colab": {
      "name": "EMG_data_prep.ipynb",
      "provenance": [],
      "collapsed_sections": []
    },
    "kernelspec": {
      "name": "python3",
      "display_name": "Python 3"
    },
    "language_info": {
      "name": "python"
    }
  },
  "cells": [
    {
      "cell_type": "code",
      "execution_count": 1,
      "metadata": {
        "colab": {
          "base_uri": "https://localhost:8080/"
        },
        "id": "wEFHZ-5kFwxZ",
        "outputId": "288581d5-8ebb-4452-f669-89a0018d964e"
      },
      "outputs": [
        {
          "output_type": "stream",
          "name": "stdout",
          "text": [
            "Collecting wget\n",
            "  Downloading wget-3.2.zip (10 kB)\n",
            "Building wheels for collected packages: wget\n",
            "  Building wheel for wget (setup.py) ... \u001b[?25l\u001b[?25hdone\n",
            "  Created wheel for wget: filename=wget-3.2-py3-none-any.whl size=9675 sha256=9804c44c7a54fcea166efc7451d9893628c30b74c00af489c829be90523942d9\n",
            "  Stored in directory: /root/.cache/pip/wheels/a1/b6/7c/0e63e34eb06634181c63adacca38b79ff8f35c37e3c13e3c02\n",
            "Successfully built wget\n",
            "Installing collected packages: wget\n",
            "Successfully installed wget-3.2\n",
            "--2022-03-10 09:26:31--  https://archive.ics.uci.edu/ml/machine-learning-databases/00481/EMG_data_for_gestures-master.zip\n",
            "Resolving archive.ics.uci.edu (archive.ics.uci.edu)... 128.195.10.252\n",
            "Connecting to archive.ics.uci.edu (archive.ics.uci.edu)|128.195.10.252|:443... connected.\n",
            "HTTP request sent, awaiting response... 200 OK\n",
            "Length: 17699840 (17M) [application/x-httpd-php]\n",
            "Saving to: ‘EMG_data_for_gestures-master.zip’\n",
            "\n",
            "EMG_data_for_gestur 100%[===================>]  16.88M  67.0MB/s    in 0.3s    \n",
            "\n",
            "2022-03-10 09:26:31 (67.0 MB/s) - ‘EMG_data_for_gestures-master.zip’ saved [17699840/17699840]\n",
            "\n",
            "Archive:  EMG_data_for_gestures-master.zip\n",
            "43e8a69d7465e9bd4d22a71ed9cf621cf8d1d7b2\n",
            "   creating: EMG_data_for_gestures-master/\n",
            "   creating: EMG_data_for_gestures-master/01/\n",
            "  inflating: EMG_data_for_gestures-master/01/1_raw_data_13-12_22.03.16.txt  \n",
            "  inflating: EMG_data_for_gestures-master/01/2_raw_data_13-13_22.03.16.txt  \n",
            "   creating: EMG_data_for_gestures-master/02/\n",
            "  inflating: EMG_data_for_gestures-master/02/1_raw_data_14-19_22.03.16.txt  \n",
            "  inflating: EMG_data_for_gestures-master/02/2_raw_data_14-21_22.03.16.txt  \n",
            "   creating: EMG_data_for_gestures-master/03/\n",
            "  inflating: EMG_data_for_gestures-master/03/1_raw_data_09-32_11.04.16.txt  \n",
            "  inflating: EMG_data_for_gestures-master/03/2_raw_data_09-34_11.04.16.txt  \n",
            "   creating: EMG_data_for_gestures-master/04/\n",
            "  inflating: EMG_data_for_gestures-master/04/1_raw_data_18-02_24.04.16.txt  \n",
            "  inflating: EMG_data_for_gestures-master/04/2_raw_data_18-03_24.04.16.txt  \n",
            "   creating: EMG_data_for_gestures-master/05/\n",
            "  inflating: EMG_data_for_gestures-master/05/1_raw_data_10-28_30.03.16.txt  \n",
            "  inflating: EMG_data_for_gestures-master/05/2_raw_data_10-29_30.03.16.txt  \n",
            "   creating: EMG_data_for_gestures-master/06/\n",
            "  inflating: EMG_data_for_gestures-master/06/1_raw_data_10-38_11.04.16.txt  \n",
            "  inflating: EMG_data_for_gestures-master/06/2_raw_data_10-40_11.04.16.txt  \n",
            "   creating: EMG_data_for_gestures-master/07/\n",
            "  inflating: EMG_data_for_gestures-master/07/1_raw_data_18-48_22.03.16.txt  \n",
            "  inflating: EMG_data_for_gestures-master/07/2_raw_data_18-50_22.03.16.txt  \n",
            "   creating: EMG_data_for_gestures-master/08/\n",
            "  inflating: EMG_data_for_gestures-master/08/1_raw_data_12-14_23.03.16.txt  \n",
            "  inflating: EMG_data_for_gestures-master/08/2_raw_data_12-16_23.03.16.txt  \n",
            "   creating: EMG_data_for_gestures-master/09/\n",
            "  inflating: EMG_data_for_gestures-master/09/1_raw_data_12-41_23.03.16.txt  \n",
            "  inflating: EMG_data_for_gestures-master/09/2_raw_data_12-43_23.03.16.txt  \n",
            "   creating: EMG_data_for_gestures-master/10/\n",
            "  inflating: EMG_data_for_gestures-master/10/1_raw_data_11-08_21.03.16.txt  \n",
            "  inflating: EMG_data_for_gestures-master/10/2_raw_data_11-10_21.03.16.txt  \n",
            "   creating: EMG_data_for_gestures-master/11/\n",
            "  inflating: EMG_data_for_gestures-master/11/1_raw_data_13-11_18.03.16.txt  \n",
            "  inflating: EMG_data_for_gestures-master/11/2_raw_data_13-13_18.03.16.txt  \n",
            "   creating: EMG_data_for_gestures-master/12/\n",
            "  inflating: EMG_data_for_gestures-master/12/1_raw_data_11-35_28.03.16.txt  \n",
            "  inflating: EMG_data_for_gestures-master/12/2_raw_data_11-36_28.03.16.txt  \n",
            "   creating: EMG_data_for_gestures-master/13/\n",
            "  inflating: EMG_data_for_gestures-master/13/1_raw_data_13-26_21.03.16.txt  \n",
            "  inflating: EMG_data_for_gestures-master/13/2_raw_data_13-29_21.03.16.txt  \n",
            "   creating: EMG_data_for_gestures-master/14/\n",
            "  inflating: EMG_data_for_gestures-master/14/1_raw_data_09-50_15.04.16.txt  \n",
            "  inflating: EMG_data_for_gestures-master/14/2_raw_data_09-51_15.04.16.txt  \n",
            "   creating: EMG_data_for_gestures-master/15/\n",
            "  inflating: EMG_data_for_gestures-master/15/1_raw_data_08-49_13.04.16.txt  \n",
            "  inflating: EMG_data_for_gestures-master/15/2_raw_data_08-51_13.04.16.txt  \n",
            "   creating: EMG_data_for_gestures-master/16/\n",
            "  inflating: EMG_data_for_gestures-master/16/1_raw_data_12-12_25.04.16.txt  \n",
            "  inflating: EMG_data_for_gestures-master/16/2_raw_data_12-14_25.04.16.txt  \n",
            "   creating: EMG_data_for_gestures-master/17/\n",
            "  inflating: EMG_data_for_gestures-master/17/1_raw_data_11-19_23.03.16.txt  \n",
            "  inflating: EMG_data_for_gestures-master/17/2_raw_data_11-20_23.03.16.txt  \n",
            "   creating: EMG_data_for_gestures-master/18/\n",
            "  inflating: EMG_data_for_gestures-master/18/1_raw_data_12-35_21.03.16.txt  \n",
            "  inflating: EMG_data_for_gestures-master/18/2_raw_data_12-37_21.03.16.txt  \n",
            "   creating: EMG_data_for_gestures-master/19/\n",
            "  inflating: EMG_data_for_gestures-master/19/1_raw_data_12-10_26.04.16.txt  \n",
            "  inflating: EMG_data_for_gestures-master/19/2_raw_data_12-11_26.04.16.txt  \n",
            "   creating: EMG_data_for_gestures-master/20/\n",
            "  inflating: EMG_data_for_gestures-master/20/1_raw_data_11-41_22.03.16.txt  \n",
            "  inflating: EMG_data_for_gestures-master/20/2_raw_data_11-43_22.03.16.txt  \n",
            "   creating: EMG_data_for_gestures-master/21/\n",
            "  inflating: EMG_data_for_gestures-master/21/1_raw_data_20-28_24.04.16.txt  \n",
            "  inflating: EMG_data_for_gestures-master/21/2_raw_data_20-30_24.04.16.txt  \n",
            "   creating: EMG_data_for_gestures-master/22/\n",
            "  inflating: EMG_data_for_gestures-master/22/1_raw_data_12-37_28.03.16.txt  \n",
            "  inflating: EMG_data_for_gestures-master/22/2_raw_data_12-39_28.03.16.txt  \n",
            "   creating: EMG_data_for_gestures-master/23/\n",
            "  inflating: EMG_data_for_gestures-master/23/1_raw_data_13-18_05.04.16.txt  \n",
            "  inflating: EMG_data_for_gestures-master/23/2_raw_data_13-19_05.04.16.txt  \n",
            "   creating: EMG_data_for_gestures-master/24/\n",
            "  inflating: EMG_data_for_gestures-master/24/1_raw_data_10-16_12.04.16.txt  \n",
            "  inflating: EMG_data_for_gestures-master/24/2_raw_data_10-17_12.04.16.txt  \n",
            "   creating: EMG_data_for_gestures-master/25/\n",
            "  inflating: EMG_data_for_gestures-master/25/1_raw_data_14-51_24.04.16.txt  \n",
            "  inflating: EMG_data_for_gestures-master/25/2_raw_data_14-53_24.04.16.txt  \n",
            "   creating: EMG_data_for_gestures-master/26/\n",
            "  inflating: EMG_data_for_gestures-master/26/1_raw_data_10-22_29.03.16.txt  \n",
            "  inflating: EMG_data_for_gestures-master/26/2_raw_data_10-23_29.03.16.txt  \n",
            "   creating: EMG_data_for_gestures-master/27/\n",
            "  inflating: EMG_data_for_gestures-master/27/1_raw_data_12-19_06.04.16.txt  \n",
            "  inflating: EMG_data_for_gestures-master/27/2_raw_data_12-20_06.04.16.txt  \n",
            "   creating: EMG_data_for_gestures-master/28/\n",
            "  inflating: EMG_data_for_gestures-master/28/1_raw_data_12-10_15.04.16.txt  \n",
            "  inflating: EMG_data_for_gestures-master/28/2_raw_data_12-11_15.04.16.txt  \n",
            "   creating: EMG_data_for_gestures-master/29/\n",
            "  inflating: EMG_data_for_gestures-master/29/1_raw_data_10-17_15.04.16.txt  \n",
            "  inflating: EMG_data_for_gestures-master/29/2_raw_data_10-18_15.04.16.txt  \n",
            "   creating: EMG_data_for_gestures-master/30/\n",
            "  inflating: EMG_data_for_gestures-master/30/1_raw_data_09-49_21.03.16.txt  \n",
            "  inflating: EMG_data_for_gestures-master/30/2_raw_data_09-50_21.03.16.txt  \n",
            "   creating: EMG_data_for_gestures-master/31/\n",
            "  inflating: EMG_data_for_gestures-master/31/1_raw_data_11-15_11.04.16.txt  \n",
            "  inflating: EMG_data_for_gestures-master/31/2_raw_data_11-16_11.04.16.txt  \n",
            "   creating: EMG_data_for_gestures-master/32/\n",
            "  inflating: EMG_data_for_gestures-master/32/1_raw_data_12-04_27.04.16.txt  \n",
            "  inflating: EMG_data_for_gestures-master/32/2_raw_data_12-06_27.04.16.txt  \n",
            "   creating: EMG_data_for_gestures-master/33/\n",
            "  inflating: EMG_data_for_gestures-master/33/1_raw_data_09-49_12.04.16.txt  \n",
            "  inflating: EMG_data_for_gestures-master/33/2_raw_data_09-50_12.04.16.txt  \n",
            "   creating: EMG_data_for_gestures-master/34/\n",
            "  inflating: EMG_data_for_gestures-master/34/1_raw_data_10-51_07.04.16.txt  \n",
            "  inflating: EMG_data_for_gestures-master/34/2_raw_data_10-53_07.04.16.txt  \n",
            "   creating: EMG_data_for_gestures-master/35/\n",
            "  inflating: EMG_data_for_gestures-master/35/1_raw_data_10-03_13.04.16.txt  \n",
            "  inflating: EMG_data_for_gestures-master/35/2_raw_data_10-05_13.04.16.txt  \n",
            "   creating: EMG_data_for_gestures-master/36/\n",
            "  inflating: EMG_data_for_gestures-master/36/1_raw_data_13-03_15.04.16.txt  \n",
            "  inflating: EMG_data_for_gestures-master/36/2_raw_data_13-04_15.04.16.txt  \n",
            "  inflating: EMG_data_for_gestures-master/README.txt  \n"
          ]
        }
      ],
      "source": [
        "!pip install wget\n",
        "!wget https://archive.ics.uci.edu/ml/machine-learning-databases/00481/EMG_data_for_gestures-master.zip\n",
        "!unzip EMG_data_for_gestures-master.zip"
      ]
    },
    {
      "cell_type": "code",
      "source": [
        "import pandas as pd\n",
        "from matplotlib import pylab\n",
        "import numpy as np\n",
        "import os\n",
        "import random"
      ],
      "metadata": {
        "id": "r-pWEf8uF8Da"
      },
      "execution_count": 2,
      "outputs": []
    },
    {
      "cell_type": "markdown",
      "source": [
        "## About Dataset\n",
        "\n",
        "EMG Pattern Database\n",
        "\n",
        "For recording patterns, we used a MYO Thalmic bracelet worn on a user’s forearm, and a PC with a Bluetooth receiver. The bracelet is equipped with eight sensors equally spaced around the forearm that simultaneously acquire myographic signals. The signals are sent through a Bluetooth interface to a PC. \n",
        "We present raw EMG data for 36 subjects while they performed series of static hand gestures.The subject performs two series, each of which consists of six (seven) basic gestures. Each gesture was performed for 3 seconds with a pause of 3 seconds between gestures.\n",
        "\n",
        "\n",
        "Description of raw_data _*** file\n",
        "Each file consist of 10 columns:\n",
        "1) Time - time in ms;\n",
        "2-9) Channel - eightEMG channels of MYO Thalmic bracelet;\n",
        "10) Class  –thelabel of gestures: \n",
        "0 - unmarked data,\n",
        "1 - hand at rest, \n",
        "2 - hand clenched in a fist, \n",
        "3 - wrist flexion,\n",
        "4 – wrist extension,\n",
        "5 – radial deviations,\n",
        "6 - ulnar deviations,\n",
        "7 - extended palm (the gesture was not performed by all subjects).\n",
        "\n",
        "\n",
        "\n",
        "\n",
        "Relevant Paper:\n",
        "Lobov S., Krilova N., Kastalskiy I., Kazantsev V., Makarov V.A. Latent Factors Limiting the Performance of sEMG-Interfaces. Sensors. 2018;18(4):1122. doi: 10.3390/s18041122"
      ],
      "metadata": {
        "id": "vyHEXuQOR6yU"
      }
    },
    {
      "cell_type": "code",
      "source": [
        "df = pd.read_csv('/content/EMG_data_for_gestures-master/03/2_raw_data_09-34_11.04.16.txt',sep=\"\\t\")"
      ],
      "metadata": {
        "id": "JYcSVofqGZ-X"
      },
      "execution_count": 3,
      "outputs": []
    },
    {
      "cell_type": "code",
      "source": [
        "#jumps in time are negligible\n",
        "\n",
        "pylab.plot(df['time'])"
      ],
      "metadata": {
        "id": "tPjRZxt7ICW_",
        "colab": {
          "base_uri": "https://localhost:8080/",
          "height": 283
        },
        "outputId": "b615392c-5868-4da8-cec0-caa328e10882"
      },
      "execution_count": 4,
      "outputs": [
        {
          "output_type": "execute_result",
          "data": {
            "text/plain": [
              "[<matplotlib.lines.Line2D at 0x7f5c39377690>]"
            ]
          },
          "metadata": {},
          "execution_count": 4
        },
        {
          "output_type": "display_data",
          "data": {
            "image/png": "[encoded data removed]",
            "text/plain": [
              "<Figure size 432x288 with 1 Axes>"
            ]
          },
          "metadata": {
            "needs_background": "light"
          }
        }
      ]
    },
    {
      "cell_type": "code",
      "source": [
        "WINDOW = 100\n",
        "HOP = 50"
      ],
      "metadata": {
        "id": "_rvf9JlpPQSc"
      },
      "execution_count": 5,
      "outputs": []
    },
    {
      "cell_type": "code",
      "source": [
        "from pandas.io.formats.info import DataFrameTableBuilderNonVerbose\n",
        "x_data = []\n",
        "y_data = []\n",
        "for folder in os.listdir('/content/EMG_data_for_gestures-master'):\n",
        "  if folder != 'README.txt':\n",
        "    for filename in os.listdir(f'/content/EMG_data_for_gestures-master/{folder}'):\n",
        "      print(f'{folder}/{filename}')\n",
        "      df = pd.read_csv(f'/content/EMG_data_for_gestures-master/{folder}/{filename}',sep=\"\\t\")\n",
        "      x = np.zeros((((len(df)//WINDOW)-1)*(WINDOW//HOP), 8, WINDOW))\n",
        "      y = np.zeros((((len(df)//WINDOW)-1)*(WINDOW//HOP), 6)) # only the classes present in all of the trials\n",
        "\n",
        "      # transferring the data to arrays\n",
        "      for i in range(0, ((len(df)//WINDOW)-1)*WINDOW, HOP):\n",
        "        x[i//HOP, 0] = df['channel1'][i:i+WINDOW]\n",
        "        x[i//HOP, 1] = df['channel2'][i:i+WINDOW]\n",
        "        x[i//HOP, 2] = df['channel3'][i:i+WINDOW]\n",
        "        x[i//HOP, 3] = df['channel4'][i:i+WINDOW]\n",
        "        x[i//HOP, 4] = df['channel5'][i:i+WINDOW]\n",
        "        x[i//HOP, 5] = df['channel6'][i:i+WINDOW]\n",
        "        x[i//HOP, 6] = df['channel7'][i:i+WINDOW]\n",
        "        x[i//HOP, 7] = df['channel8'][i:i+WINDOW]\n",
        "        for j in range(6):\n",
        "          y[i//HOP, j] = np.any(df['class'][i:i+WINDOW] == j)\n",
        "\n",
        "      del df\n",
        "      valid_ids = np.where(y[:,0]==0) # removing unmarked data\n",
        "\n",
        "      x_data.append(x[valid_ids])\n",
        "      y_data.append(y[valid_ids])"
      ],
      "metadata": {
        "colab": {
          "base_uri": "https://localhost:8080/"
        },
        "id": "p6L2u4oRUGvc",
        "outputId": "de51cb33-011e-4992-bf50-4a70c57e950e"
      },
      "execution_count": 6,
      "outputs": [
        {
          "output_type": "stream",
          "name": "stdout",
          "text": [
            "16/1_raw_data_12-12_25.04.16.txt\n",
            "16/2_raw_data_12-14_25.04.16.txt\n",
            "33/2_raw_data_09-50_12.04.16.txt\n",
            "33/1_raw_data_09-49_12.04.16.txt\n",
            "32/2_raw_data_12-06_27.04.16.txt\n",
            "32/1_raw_data_12-04_27.04.16.txt\n",
            "03/1_raw_data_09-32_11.04.16.txt\n",
            "03/2_raw_data_09-34_11.04.16.txt\n",
            "23/2_raw_data_13-19_05.04.16.txt\n",
            "23/1_raw_data_13-18_05.04.16.txt\n",
            "13/1_raw_data_13-26_21.03.16.txt\n",
            "13/2_raw_data_13-29_21.03.16.txt\n",
            "12/2_raw_data_11-36_28.03.16.txt\n",
            "12/1_raw_data_11-35_28.03.16.txt\n",
            "11/2_raw_data_13-13_18.03.16.txt\n",
            "11/1_raw_data_13-11_18.03.16.txt\n",
            "05/1_raw_data_10-28_30.03.16.txt\n",
            "05/2_raw_data_10-29_30.03.16.txt\n",
            "04/2_raw_data_18-03_24.04.16.txt\n",
            "04/1_raw_data_18-02_24.04.16.txt\n",
            "28/1_raw_data_12-10_15.04.16.txt\n",
            "28/2_raw_data_12-11_15.04.16.txt\n",
            "22/1_raw_data_12-37_28.03.16.txt\n",
            "22/2_raw_data_12-39_28.03.16.txt\n",
            "02/1_raw_data_14-19_22.03.16.txt\n",
            "02/2_raw_data_14-21_22.03.16.txt\n",
            "27/1_raw_data_12-19_06.04.16.txt\n",
            "27/2_raw_data_12-20_06.04.16.txt\n",
            "31/2_raw_data_11-16_11.04.16.txt\n",
            "31/1_raw_data_11-15_11.04.16.txt\n",
            "26/1_raw_data_10-22_29.03.16.txt\n",
            "26/2_raw_data_10-23_29.03.16.txt\n",
            "18/2_raw_data_12-37_21.03.16.txt\n",
            "18/1_raw_data_12-35_21.03.16.txt\n",
            "14/1_raw_data_09-50_15.04.16.txt\n",
            "14/2_raw_data_09-51_15.04.16.txt\n",
            "29/1_raw_data_10-17_15.04.16.txt\n",
            "29/2_raw_data_10-18_15.04.16.txt\n",
            "10/1_raw_data_11-08_21.03.16.txt\n",
            "10/2_raw_data_11-10_21.03.16.txt\n",
            "19/1_raw_data_12-10_26.04.16.txt\n",
            "19/2_raw_data_12-11_26.04.16.txt\n",
            "17/1_raw_data_11-19_23.03.16.txt\n",
            "17/2_raw_data_11-20_23.03.16.txt\n",
            "09/1_raw_data_12-41_23.03.16.txt\n",
            "09/2_raw_data_12-43_23.03.16.txt\n",
            "21/1_raw_data_20-28_24.04.16.txt\n",
            "21/2_raw_data_20-30_24.04.16.txt\n",
            "30/2_raw_data_09-50_21.03.16.txt\n",
            "30/1_raw_data_09-49_21.03.16.txt\n",
            "01/1_raw_data_13-12_22.03.16.txt\n",
            "01/2_raw_data_13-13_22.03.16.txt\n",
            "34/1_raw_data_10-51_07.04.16.txt\n",
            "34/2_raw_data_10-53_07.04.16.txt\n",
            "24/2_raw_data_10-17_12.04.16.txt\n",
            "24/1_raw_data_10-16_12.04.16.txt\n",
            "06/1_raw_data_10-38_11.04.16.txt\n",
            "06/2_raw_data_10-40_11.04.16.txt\n",
            "20/1_raw_data_11-41_22.03.16.txt\n",
            "20/2_raw_data_11-43_22.03.16.txt\n",
            "25/1_raw_data_14-51_24.04.16.txt\n",
            "25/2_raw_data_14-53_24.04.16.txt\n",
            "08/2_raw_data_12-16_23.03.16.txt\n",
            "08/1_raw_data_12-14_23.03.16.txt\n",
            "07/2_raw_data_18-50_22.03.16.txt\n",
            "07/1_raw_data_18-48_22.03.16.txt\n",
            "36/1_raw_data_13-03_15.04.16.txt\n",
            "36/2_raw_data_13-04_15.04.16.txt\n",
            "35/1_raw_data_10-03_13.04.16.txt\n",
            "35/2_raw_data_10-05_13.04.16.txt\n",
            "15/2_raw_data_08-51_13.04.16.txt\n",
            "15/1_raw_data_08-49_13.04.16.txt\n"
          ]
        }
      ]
    },
    {
      "cell_type": "code",
      "source": [
        "train = random.sample(range(72), 44)\n",
        "val = random.sample(list(set(range(72)) - set(train)), 14)\n",
        "test = list(set(range(72)) - set(train) - set(val))"
      ],
      "metadata": {
        "id": "DcZdNqknV62E"
      },
      "execution_count": 7,
      "outputs": []
    },
    {
      "cell_type": "code",
      "source": [
        "x_train = []\n",
        "y_train = []\n",
        "\n",
        "x_val = []\n",
        "y_val = []\n",
        "\n",
        "x_test = []\n",
        "y_test = []\n",
        "\n",
        "for i in range(len(x_data)):\n",
        "  if i in train:\n",
        "    for row in x_data[i]:\n",
        "      x_train.append(row)\n",
        "    for row in y_data[i]:\n",
        "      y_train.append(row)\n",
        "  elif i in val:\n",
        "    for row in x_data[i]:\n",
        "      x_val.append(row)\n",
        "    for row in y_data[i]:\n",
        "      y_val.append(row)\n",
        "  else:\n",
        "    for row in x_data[i]:\n",
        "      x_test.append(row)\n",
        "    for row in y_data[i]:\n",
        "      y_test.append(row)"
      ],
      "metadata": {
        "id": "UIFNCQhRb47A"
      },
      "execution_count": 8,
      "outputs": []
    },
    {
      "cell_type": "code",
      "source": [
        "x_train = np.asarray(x_train)\n",
        "y_train = np.delete(np.asarray(y_train), 0, axis=1)\n",
        "\n",
        "x_val = np.asarray(x_val)\n",
        "y_val = np.delete(np.asarray(y_val), 0, axis=1)\n",
        "\n",
        "x_test = np.asarray(x_test)\n",
        "y_test = np.delete(np.asarray(y_test), 0, axis=1)"
      ],
      "metadata": {
        "id": "M-bp79ydlq4T"
      },
      "execution_count": 9,
      "outputs": []
    },
    {
      "cell_type": "code",
      "source": [
        "x_train = x_train[np.where(y_train != np.zeros(5))[0]]\n",
        "y_train = y_train[np.where(y_train != np.zeros(5))[0]]\n",
        "\n",
        "x_val = x_val[np.where(y_val != np.zeros(5))[0]]\n",
        "y_val = y_val[np.where(y_val != np.zeros(5))[0]]\n",
        "\n",
        "x_test = x_test[np.where(y_test != np.zeros(5))[0]]\n",
        "y_test = y_test[np.where(y_test != np.zeros(5))[0]]"
      ],
      "metadata": {
        "id": "TNP75iuil9GV"
      },
      "execution_count": 10,
      "outputs": []
    },
    {
      "cell_type": "code",
      "source": [
        "np.savez('/content/drive/MyDrive/emg.npz',x_train=x_train, y_train=y_train, \n",
        "         x_test=x_test, y_test=y_test,\n",
        "         x_val=x_val, y_val=y_val)"
      ],
      "metadata": {
        "id": "aOF_YtwnUKou"
      },
      "execution_count": 11,
      "outputs": []
    },
    {
      "cell_type": "code",
      "source": [
        "y_train.shape"
      ],
      "metadata": {
        "id": "OuWpyaod2Nk8",
        "colab": {
          "base_uri": "https://localhost:8080/"
        },
        "outputId": "6f3511f5-14b2-408d-c256-dccdb6a3325a"
      },
      "execution_count": 14,
      "outputs": [
        {
          "output_type": "execute_result",
          "data": {
            "text/plain": [
              "(14306, 5)"
            ]
          },
          "metadata": {},
          "execution_count": 14
        }
      ]
    },
    {
      "cell_type": "code",
      "source": [
        "x_train.shape"
      ],
      "metadata": {
        "colab": {
          "base_uri": "https://localhost:8080/"
        },
        "id": "qSoPEAdOp-Ce",
        "outputId": "cca3e477-870f-4423-d0ef-e637ef6d79de"
      },
      "execution_count": 13,
      "outputs": [
        {
          "output_type": "execute_result",
          "data": {
            "text/plain": [
              "(14306, 8, 100)"
            ]
          },
          "metadata": {},
          "execution_count": 13
        }
      ]
    },
    {
      "cell_type": "code",
      "source": [
        ""
      ],
      "metadata": {
        "id": "sTS4W5VjJ0FS"
      },
      "execution_count": null,
      "outputs": []
    }
  ]
}