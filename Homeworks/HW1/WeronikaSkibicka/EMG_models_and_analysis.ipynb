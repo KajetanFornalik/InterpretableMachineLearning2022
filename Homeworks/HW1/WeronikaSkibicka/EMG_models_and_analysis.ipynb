{
  "nbformat": 4,
  "nbformat_minor": 0,
  "metadata": {
    "colab": {
      "name": "EMG_models_and_analysis.ipynb",
      "provenance": [],
      "collapsed_sections": []
    },
    "kernelspec": {
      "name": "python3",
      "display_name": "Python 3"
    },
    "language_info": {
      "name": "python"
    },
    "accelerator": "GPU"
  },
  "cells": [
    {
      "cell_type": "code",
      "source": [
        "#I'll try to work with making the NN model compatible with tf 2.x\n",
        "%tensorflow_version 1.x"
      ],
      "metadata": {
        "id": "ZQBz-VXeMad_"
      },
      "execution_count": 5,
      "outputs": []
    },
    {
      "cell_type": "code",
      "source": [
        "import numpy as np\n",
        "from matplotlib import pylab\n",
        "import random\n",
        "from tensorflow import keras\n",
        "from tensorflow.keras.layers import Layer, Conv1D, MaxPool1D, Concatenate, BatchNormalization, Add, Input, GlobalAveragePooling1D, Dense, Activation\n",
        "import tensorflow as tf\n",
        "import os"
      ],
      "metadata": {
        "id": "_9uwMESUKuWH"
      },
      "execution_count": 6,
      "outputs": []
    },
    {
      "cell_type": "code",
      "execution_count": 7,
      "metadata": {
        "id": "TWzipYsUKaO0"
      },
      "outputs": [],
      "source": [
        "all_data = np.load('/content/drive/MyDrive/emg.npz', allow_pickle=True)"
      ]
    },
    {
      "cell_type": "code",
      "source": [
        "x_train = np.swapaxes(all_data['x_train'],1,2)\n",
        "y_train = all_data['y_train']\n",
        "\n",
        "x_val = np.swapaxes(all_data['x_val'],1,2)\n",
        "y_val = all_data['y_val']\n",
        "\n",
        "x_test = np.swapaxes(all_data['x_test'],1,2)\n",
        "y_test = all_data['y_test']"
      ],
      "metadata": {
        "id": "iGShJuFEKsgE"
      },
      "execution_count": 8,
      "outputs": []
    },
    {
      "cell_type": "code",
      "source": [
        "del all_data"
      ],
      "metadata": {
        "id": "cWO90RBSkzi8"
      },
      "execution_count": 9,
      "outputs": []
    },
    {
      "cell_type": "markdown",
      "source": [
        "# 1.Inception Time (CNN)\n",
        "As the first model I will be training the **Inception Time** network (https://link.springer.com/article/10.1007/s10618-020-00710-y) based on this keras implementation: https://towardsdatascience.com/deep-learning-for-time-series-classification-inceptiontime-245703f422db"
      ],
      "metadata": {
        "id": "7kfTWpqsf_2Z"
      }
    },
    {
      "cell_type": "code",
      "source": [
        "NUM_CLASSES = y_val.shape[1]\n",
        "NUM_FILTERS = 64\n",
        "NUM_MODULES = 3"
      ],
      "metadata": {
        "id": "mMpKdZkQku-Q"
      },
      "execution_count": 10,
      "outputs": []
    },
    {
      "cell_type": "code",
      "source": [
        "class InceptionModule(Layer):\n",
        "\n",
        "  def __init__(self, num_filters=NUM_FILTERS, activation='relu', **kwargs):\n",
        "    super().__init__(**kwargs)\n",
        "    self.num_filters = num_filters\n",
        "    self.activation = keras.activations.get(activation)\n",
        "\n",
        "  def get_config(self):\n",
        "    config = super().get_config().copy()\n",
        "    config.update({\n",
        "        'activation': self.activation,\n",
        "        'num_filters': self.num_filters\n",
        "    })\n",
        "    return config\n",
        "    \n",
        "  def call(self, inputs):\n",
        "    Z_bottleneck = Conv1D(filters=self.num_filters, kernel_size=1, strides=1, activation='relu', use_bias=False)(inputs)\n",
        "    Z_maxpool = MaxPool1D(pool_size=3, strides=1, padding='same')(inputs)\n",
        "\n",
        "    Z1 = Conv1D(filters=self.num_filters, kernel_size=10, strides=1, activation='relu', use_bias=False, padding='same')(Z_bottleneck)\n",
        "    Z2 = Conv1D(filters=self.num_filters, kernel_size=20, strides=1, activation='relu', use_bias=False, padding='same')(Z_bottleneck)\n",
        "    Z3 = Conv1D(filters=self.num_filters, kernel_size=40, strides=1, activation='relu', use_bias=False, padding='same')(Z_bottleneck)\n",
        "    Z4 = Conv1D(filters=self.num_filters, kernel_size=1, strides=1, activation='relu', use_bias=False)(Z_maxpool)\n",
        "    Z = Concatenate(axis=2)([Z1, Z2, Z3, Z4])\n",
        "    Z = BatchNormalization()(Z)\n",
        "\n",
        "    return self.activation(Z)"
      ],
      "metadata": {
        "id": "5WLNFE2YK7yj"
      },
      "execution_count": 11,
      "outputs": []
    },
    {
      "cell_type": "code",
      "source": [
        "def shortcut_layer(inputs, Z_inception):\n",
        "  Z_shortcut = Conv1D(filters=int(Z_inception.shape[-1]), kernel_size=1, padding='same', use_bias=False)(inputs)\n",
        "  Z_shortcut = BatchNormalization()(Z_shortcut)\n",
        "\n",
        "  Z = Add()([Z_shortcut, Z_inception])\n",
        "\n",
        "  return Activation('relu')(Z)"
      ],
      "metadata": {
        "id": "pq1MyHyLVCGy"
      },
      "execution_count": 12,
      "outputs": []
    },
    {
      "cell_type": "code",
      "source": [
        "def build_it_model(input_shape, num_classes, num_modules=NUM_MODULES):\n",
        "  input_layer = Input(input_shape)\n",
        "  Z = input_layer\n",
        "  Z_residual = input_layer\n",
        "\n",
        "  for i in range(num_modules):\n",
        "    Z = InceptionModule()(Z)\n",
        "    if i % 3 == 2:\n",
        "      Z = shortcut_layer(Z_residual, Z)\n",
        "      Z_residual = Z\n",
        "\n",
        "  gap_layer = GlobalAveragePooling1D()(Z)\n",
        "  output_layer = Dense(num_classes, activation='softmax')(gap_layer)\n",
        "\n",
        "  model = keras.models.Model(inputs=input_layer, outputs=output_layer)\n",
        "  model.compile(loss='categorical_crossentropy', optimizer=keras.optimizers.Adam(), metrics=['accuracy'])\n",
        "  \n",
        "  return model"
      ],
      "metadata": {
        "id": "0eKFtlb9N9GN"
      },
      "execution_count": 13,
      "outputs": []
    },
    {
      "cell_type": "code",
      "source": [
        "InceptionTimeModel = build_it_model((100,8), NUM_CLASSES)"
      ],
      "metadata": {
        "colab": {
          "base_uri": "https://localhost:8080/"
        },
        "id": "EuWTgOC_sq3L",
        "outputId": "35542c0c-b818-4c33-9478-d73d92572243"
      },
      "execution_count": 14,
      "outputs": [
        {
          "output_type": "stream",
          "name": "stdout",
          "text": [
            "WARNING:tensorflow:Entity <bound method InceptionModule.call of <__main__.InceptionModule object at 0x7fc089c41590>> could not be transformed and will be executed as-is. Please report this to the AutoGraph team. When filing the bug, set the verbosity to 10 (on Linux, `export AUTOGRAPH_VERBOSITY=10`) and attach the full output. Cause: module 'gast' has no attribute 'Str'\n",
            "WARNING: Entity <bound method InceptionModule.call of <__main__.InceptionModule object at 0x7fc089c41590>> could not be transformed and will be executed as-is. Please report this to the AutoGraph team. When filing the bug, set the verbosity to 10 (on Linux, `export AUTOGRAPH_VERBOSITY=10`) and attach the full output. Cause: module 'gast' has no attribute 'Str'\n",
            "WARNING:tensorflow:From /tensorflow-1.15.2/python3.7/tensorflow_core/python/ops/resource_variable_ops.py:1630: calling BaseResourceVariable.__init__ (from tensorflow.python.ops.resource_variable_ops) with constraint is deprecated and will be removed in a future version.\n",
            "Instructions for updating:\n",
            "If using Keras pass *_constraint arguments to layers.\n",
            "WARNING:tensorflow:Entity <bound method InceptionModule.call of <__main__.InceptionModule object at 0x7fc089bf9350>> could not be transformed and will be executed as-is. Please report this to the AutoGraph team. When filing the bug, set the verbosity to 10 (on Linux, `export AUTOGRAPH_VERBOSITY=10`) and attach the full output. Cause: module 'gast' has no attribute 'Str'\n",
            "WARNING: Entity <bound method InceptionModule.call of <__main__.InceptionModule object at 0x7fc089bf9350>> could not be transformed and will be executed as-is. Please report this to the AutoGraph team. When filing the bug, set the verbosity to 10 (on Linux, `export AUTOGRAPH_VERBOSITY=10`) and attach the full output. Cause: module 'gast' has no attribute 'Str'\n",
            "WARNING:tensorflow:Entity <bound method InceptionModule.call of <__main__.InceptionModule object at 0x7fc089bf9410>> could not be transformed and will be executed as-is. Please report this to the AutoGraph team. When filing the bug, set the verbosity to 10 (on Linux, `export AUTOGRAPH_VERBOSITY=10`) and attach the full output. Cause: module 'gast' has no attribute 'Str'\n",
            "WARNING: Entity <bound method InceptionModule.call of <__main__.InceptionModule object at 0x7fc089bf9410>> could not be transformed and will be executed as-is. Please report this to the AutoGraph team. When filing the bug, set the verbosity to 10 (on Linux, `export AUTOGRAPH_VERBOSITY=10`) and attach the full output. Cause: module 'gast' has no attribute 'Str'\n"
          ]
        }
      ]
    },
    {
      "cell_type": "code",
      "source": [
        "history = InceptionTimeModel.fit(x_train, y_train, batch_size=64, epochs=40, validation_data=(x_val, y_val))"
      ],
      "metadata": {
        "colab": {
          "base_uri": "https://localhost:8080/"
        },
        "id": "O3oHb_7FtNNL",
        "outputId": "90b5273c-484b-487e-e6b6-bbcab237ed5b"
      },
      "execution_count": 15,
      "outputs": [
        {
          "output_type": "stream",
          "name": "stdout",
          "text": [
            "Train on 14306 samples, validate on 4564 samples\n",
            "Epoch 1/40\n",
            "14306/14306 [==============================] - 10s 664us/sample - loss: 1.3356 - acc: 0.5298 - val_loss: 1.7511 - val_acc: 0.2134\n",
            "Epoch 2/40\n",
            "14306/14306 [==============================] - 5s 351us/sample - loss: 1.1290 - acc: 0.5879 - val_loss: 1.8214 - val_acc: 0.2134\n",
            "Epoch 3/40\n",
            "14306/14306 [==============================] - 5s 350us/sample - loss: 1.0201 - acc: 0.6369 - val_loss: 1.7639 - val_acc: 0.2134\n",
            "Epoch 4/40\n",
            "14306/14306 [==============================] - 5s 355us/sample - loss: 0.9410 - acc: 0.6613 - val_loss: 1.5384 - val_acc: 0.2485\n",
            "Epoch 5/40\n",
            "14306/14306 [==============================] - 5s 356us/sample - loss: 0.8729 - acc: 0.6871 - val_loss: 1.3367 - val_acc: 0.3755\n",
            "Epoch 6/40\n",
            "14306/14306 [==============================] - 5s 355us/sample - loss: 0.8137 - acc: 0.7085 - val_loss: 1.2083 - val_acc: 0.4494\n",
            "Epoch 7/40\n",
            "14306/14306 [==============================] - 5s 354us/sample - loss: 0.7604 - acc: 0.7289 - val_loss: 1.0745 - val_acc: 0.5217\n",
            "Epoch 8/40\n",
            "14306/14306 [==============================] - 5s 353us/sample - loss: 0.7124 - acc: 0.7435 - val_loss: 0.9710 - val_acc: 0.5787\n",
            "Epoch 9/40\n",
            "14306/14306 [==============================] - 5s 355us/sample - loss: 0.6693 - acc: 0.7578 - val_loss: 0.8915 - val_acc: 0.6150\n",
            "Epoch 10/40\n",
            "14306/14306 [==============================] - 5s 351us/sample - loss: 0.6308 - acc: 0.7753 - val_loss: 0.7990 - val_acc: 0.6589\n",
            "Epoch 11/40\n",
            "14306/14306 [==============================] - 5s 352us/sample - loss: 0.5978 - acc: 0.7861 - val_loss: 0.7578 - val_acc: 0.6700\n",
            "Epoch 12/40\n",
            "14306/14306 [==============================] - 5s 361us/sample - loss: 0.5672 - acc: 0.8001 - val_loss: 0.7155 - val_acc: 0.6845\n",
            "Epoch 13/40\n",
            "14306/14306 [==============================] - 5s 365us/sample - loss: 0.5426 - acc: 0.8082 - val_loss: 0.6636 - val_acc: 0.7090\n",
            "Epoch 14/40\n",
            "14306/14306 [==============================] - 5s 351us/sample - loss: 0.5195 - acc: 0.8136 - val_loss: 0.6280 - val_acc: 0.7290\n",
            "Epoch 15/40\n",
            "14306/14306 [==============================] - 5s 358us/sample - loss: 0.4995 - acc: 0.8207 - val_loss: 0.5896 - val_acc: 0.7537\n",
            "Epoch 16/40\n",
            "14306/14306 [==============================] - 5s 353us/sample - loss: 0.4807 - acc: 0.8272 - val_loss: 0.5613 - val_acc: 0.7723\n",
            "Epoch 17/40\n",
            "14306/14306 [==============================] - 5s 353us/sample - loss: 0.4650 - acc: 0.8338 - val_loss: 0.5395 - val_acc: 0.7855\n",
            "Epoch 18/40\n",
            "14306/14306 [==============================] - 5s 360us/sample - loss: 0.4504 - acc: 0.8387 - val_loss: 0.5272 - val_acc: 0.7794\n",
            "Epoch 19/40\n",
            "14306/14306 [==============================] - 5s 360us/sample - loss: 0.4373 - acc: 0.8427 - val_loss: 0.5141 - val_acc: 0.7862\n",
            "Epoch 20/40\n",
            "14306/14306 [==============================] - 5s 355us/sample - loss: 0.4263 - acc: 0.8471 - val_loss: 0.4902 - val_acc: 0.8067\n",
            "Epoch 21/40\n",
            "14306/14306 [==============================] - 5s 354us/sample - loss: 0.4142 - acc: 0.8517 - val_loss: 0.4895 - val_acc: 0.8013\n",
            "Epoch 22/40\n",
            "14306/14306 [==============================] - 5s 352us/sample - loss: 0.4055 - acc: 0.8530 - val_loss: 0.4775 - val_acc: 0.8061\n",
            "Epoch 23/40\n",
            "14306/14306 [==============================] - 5s 356us/sample - loss: 0.3965 - acc: 0.8557 - val_loss: 0.4589 - val_acc: 0.8160\n",
            "Epoch 24/40\n",
            "14306/14306 [==============================] - 5s 357us/sample - loss: 0.3884 - acc: 0.8607 - val_loss: 0.4664 - val_acc: 0.8070\n",
            "Epoch 25/40\n",
            "14306/14306 [==============================] - 5s 357us/sample - loss: 0.3817 - acc: 0.8617 - val_loss: 0.4430 - val_acc: 0.8252\n",
            "Epoch 26/40\n",
            "14306/14306 [==============================] - 5s 358us/sample - loss: 0.3752 - acc: 0.8627 - val_loss: 0.4505 - val_acc: 0.8241\n",
            "Epoch 27/40\n",
            "14306/14306 [==============================] - 5s 360us/sample - loss: 0.3693 - acc: 0.8654 - val_loss: 0.4420 - val_acc: 0.8241\n",
            "Epoch 28/40\n",
            "14306/14306 [==============================] - 5s 359us/sample - loss: 0.3626 - acc: 0.8688 - val_loss: 0.4306 - val_acc: 0.8352\n",
            "Epoch 29/40\n",
            "14306/14306 [==============================] - 5s 356us/sample - loss: 0.3578 - acc: 0.8718 - val_loss: 0.4420 - val_acc: 0.8249\n",
            "Epoch 30/40\n",
            "14306/14306 [==============================] - 5s 354us/sample - loss: 0.3522 - acc: 0.8717 - val_loss: 0.4313 - val_acc: 0.8337\n",
            "Epoch 31/40\n",
            "14306/14306 [==============================] - 5s 354us/sample - loss: 0.3474 - acc: 0.8724 - val_loss: 0.4249 - val_acc: 0.8363\n",
            "Epoch 32/40\n",
            "14306/14306 [==============================] - 5s 352us/sample - loss: 0.3434 - acc: 0.8756 - val_loss: 0.4368 - val_acc: 0.8357\n",
            "Epoch 33/40\n",
            "14306/14306 [==============================] - 5s 354us/sample - loss: 0.3390 - acc: 0.8763 - val_loss: 0.4308 - val_acc: 0.8372\n",
            "Epoch 34/40\n",
            "14306/14306 [==============================] - 5s 354us/sample - loss: 0.3366 - acc: 0.8774 - val_loss: 0.4264 - val_acc: 0.8405\n",
            "Epoch 35/40\n",
            "14306/14306 [==============================] - 5s 354us/sample - loss: 0.3315 - acc: 0.8789 - val_loss: 0.4394 - val_acc: 0.8357\n",
            "Epoch 36/40\n",
            "14306/14306 [==============================] - 5s 353us/sample - loss: 0.3279 - acc: 0.8806 - val_loss: 0.4334 - val_acc: 0.8346\n",
            "Epoch 37/40\n",
            "14306/14306 [==============================] - 5s 384us/sample - loss: 0.3259 - acc: 0.8788 - val_loss: 0.4220 - val_acc: 0.8411\n",
            "Epoch 38/40\n",
            "14306/14306 [==============================] - 6s 411us/sample - loss: 0.3217 - acc: 0.8824 - val_loss: 0.4366 - val_acc: 0.8344\n",
            "Epoch 39/40\n",
            "14306/14306 [==============================] - 6s 422us/sample - loss: 0.3195 - acc: 0.8824 - val_loss: 0.4183 - val_acc: 0.8447\n",
            "Epoch 40/40\n",
            "14306/14306 [==============================] - 5s 367us/sample - loss: 0.3167 - acc: 0.8838 - val_loss: 0.4173 - val_acc: 0.8460\n"
          ]
        }
      ]
    },
    {
      "cell_type": "code",
      "source": [
        "# saving the model\n",
        "\n",
        "# InceptionTimeModel.save('emg_itcnn.h5')"
      ],
      "metadata": {
        "id": "FTfOxEa7tXTm"
      },
      "execution_count": 17,
      "outputs": []
    },
    {
      "cell_type": "markdown",
      "source": [
        "# 2. SVM"
      ],
      "metadata": {
        "id": "RJR9fAHwQkdj"
      }
    },
    {
      "cell_type": "code",
      "source": [
        "from sklearn import svm\n",
        "import pickle"
      ],
      "metadata": {
        "id": "nhFtds3c3udt"
      },
      "execution_count": 18,
      "outputs": []
    },
    {
      "cell_type": "code",
      "source": [
        "svm_clf = svm.SVC(decision_function_shape='ovr')\n",
        "svm_clf.fit(x_train.reshape(x_train.shape[0], x_train.shape[1]*x_train.shape[2]), np.argmax(y_train, axis=1))"
      ],
      "metadata": {
        "colab": {
          "base_uri": "https://localhost:8080/"
        },
        "id": "iZ4sYUIhJDvl",
        "outputId": "9935e013-b789-4c34-ba32-491cdb6ea561"
      },
      "execution_count": 19,
      "outputs": [
        {
          "output_type": "execute_result",
          "data": {
            "text/plain": [
              "SVC()"
            ]
          },
          "metadata": {},
          "execution_count": 19
        }
      ]
    },
    {
      "cell_type": "code",
      "source": [
        "y_pred = svm_clf.predict(x_val.reshape(x_val.shape[0], x_val.shape[1]*x_val.shape[2]))"
      ],
      "metadata": {
        "id": "dSc8vHCRW5Vx"
      },
      "execution_count": 20,
      "outputs": []
    },
    {
      "cell_type": "code",
      "source": [
        "len(np.where(y_pred == np.argmax(y_val, axis=1))[0])/len(y_pred)"
      ],
      "metadata": {
        "colab": {
          "base_uri": "https://localhost:8080/"
        },
        "id": "-MHs5J67XQdX",
        "outputId": "84725c85-7076-40eb-c208-82b125ea9512"
      },
      "execution_count": 21,
      "outputs": [
        {
          "output_type": "execute_result",
          "data": {
            "text/plain": [
              "0.7309377738825592"
            ]
          },
          "metadata": {},
          "execution_count": 21
        }
      ]
    },
    {
      "cell_type": "markdown",
      "source": [
        "Lower frequency of signal (10 times less) - even better result"
      ],
      "metadata": {
        "id": "h-77OxyzdzlT"
      }
    },
    {
      "cell_type": "code",
      "source": [
        "x_train_low_freq = x_train[:,::10]"
      ],
      "metadata": {
        "id": "2hFBk_UUaAVF"
      },
      "execution_count": 22,
      "outputs": []
    },
    {
      "cell_type": "code",
      "source": [
        "x_val_low_freq = x_val[:,::10]"
      ],
      "metadata": {
        "id": "KT99y_UYbW7A"
      },
      "execution_count": 23,
      "outputs": []
    },
    {
      "cell_type": "code",
      "source": [
        "svm_low_freq_clf = svm.SVC(decision_function_shape='ovr')\n",
        "svm_low_freq_clf.fit(x_train_low_freq.reshape(x_train_low_freq.shape[0], x_train_low_freq.shape[1]*x_train_low_freq.shape[2]), np.argmax(y_train, axis=1))"
      ],
      "metadata": {
        "colab": {
          "base_uri": "https://localhost:8080/"
        },
        "id": "FbPh2WT9aa0-",
        "outputId": "55957464-c09a-4bbd-b248-fc9b4eb53beb"
      },
      "execution_count": 24,
      "outputs": [
        {
          "output_type": "execute_result",
          "data": {
            "text/plain": [
              "SVC()"
            ]
          },
          "metadata": {},
          "execution_count": 24
        }
      ]
    },
    {
      "cell_type": "code",
      "source": [
        "y_pred = svm_low_freq_clf.predict(x_val_low_freq.reshape(x_val_low_freq.shape[0], x_val_low_freq.shape[1]*x_val_low_freq.shape[2]))"
      ],
      "metadata": {
        "id": "qO4yAAEBbPPZ"
      },
      "execution_count": 25,
      "outputs": []
    },
    {
      "cell_type": "code",
      "source": [
        "len(np.where(y_pred == np.argmax(y_val, axis=1))[0])/len(y_pred)"
      ],
      "metadata": {
        "colab": {
          "base_uri": "https://localhost:8080/"
        },
        "id": "HBEScx7Tbgmq",
        "outputId": "1bad24e8-ed00-43f8-830a-abd48aa3ad90"
      },
      "execution_count": 26,
      "outputs": [
        {
          "output_type": "execute_result",
          "data": {
            "text/plain": [
              "0.747589833479404"
            ]
          },
          "metadata": {},
          "execution_count": 26
        }
      ]
    },
    {
      "cell_type": "code",
      "source": [
        "# saving the model\n",
        "\n",
        "# pickle.dump(svm_low_freq_clf, open('/content/drive/MyDrive/egm_svm_lf.sav', 'wb'))"
      ],
      "metadata": {
        "id": "8kpUkhPYgEgS"
      },
      "execution_count": 27,
      "outputs": []
    },
    {
      "cell_type": "markdown",
      "source": [
        "# 3. Random Tree Forest"
      ],
      "metadata": {
        "id": "-OXDNCp8cW9s"
      }
    },
    {
      "cell_type": "code",
      "source": [
        "from sklearn.ensemble import RandomForestClassifier"
      ],
      "metadata": {
        "id": "24iisRzBcafJ"
      },
      "execution_count": 28,
      "outputs": []
    },
    {
      "cell_type": "code",
      "source": [
        "rtf_clf = RandomForestClassifier(max_depth=8)\n",
        "rtf_clf.fit(x_train.reshape(x_train.shape[0], x_train.shape[1]*x_train.shape[2]), np.argmax(y_train, axis=1))"
      ],
      "metadata": {
        "colab": {
          "base_uri": "https://localhost:8080/"
        },
        "id": "lC1djYgKcoAN",
        "outputId": "74710b04-c0d4-4f33-83ab-8ccc0d3de6c8"
      },
      "execution_count": 29,
      "outputs": [
        {
          "output_type": "execute_result",
          "data": {
            "text/plain": [
              "RandomForestClassifier(max_depth=8)"
            ]
          },
          "metadata": {},
          "execution_count": 29
        }
      ]
    },
    {
      "cell_type": "code",
      "source": [
        "y_pred = rtf_clf.predict(x_val.reshape(x_val.shape[0], x_val.shape[1]*x_val.shape[2]))"
      ],
      "metadata": {
        "id": "-LZf2rU9dlGd"
      },
      "execution_count": 30,
      "outputs": []
    },
    {
      "cell_type": "code",
      "source": [
        "len(np.where(y_pred == np.argmax(y_val, axis=1))[0])/len(y_pred)"
      ],
      "metadata": {
        "colab": {
          "base_uri": "https://localhost:8080/"
        },
        "id": "dzwMaNb6dp2X",
        "outputId": "a31195a8-b34b-4bd3-c8b0-95577fa7a44a"
      },
      "execution_count": 31,
      "outputs": [
        {
          "output_type": "execute_result",
          "data": {
            "text/plain": [
              "0.8014899211218229"
            ]
          },
          "metadata": {},
          "execution_count": 31
        }
      ]
    },
    {
      "cell_type": "markdown",
      "source": [
        "Lower frequency of signal (10 times less) - similiar result"
      ],
      "metadata": {
        "id": "9wEEbS0CeJt-"
      }
    },
    {
      "cell_type": "code",
      "source": [
        "x_train_low_freq = x_train[:,::10]"
      ],
      "metadata": {
        "id": "_jkl2vkRdrEK"
      },
      "execution_count": 32,
      "outputs": []
    },
    {
      "cell_type": "code",
      "source": [
        "x_val_low_freq = x_val[:,::10]"
      ],
      "metadata": {
        "id": "AGlTDRrgeLkj"
      },
      "execution_count": 33,
      "outputs": []
    },
    {
      "cell_type": "code",
      "source": [
        "rtf_low_freq_clf = RandomForestClassifier(max_depth=8)\n",
        "rtf_low_freq_clf.fit(x_train_low_freq.reshape(x_train_low_freq.shape[0], x_train_low_freq.shape[1]*x_train_low_freq.shape[2]), np.argmax(y_train, axis=1))"
      ],
      "metadata": {
        "colab": {
          "base_uri": "https://localhost:8080/"
        },
        "id": "POdDTIxceNCy",
        "outputId": "1e84f5e7-a7ec-41fb-bf4f-d735b61a655b"
      },
      "execution_count": 34,
      "outputs": [
        {
          "output_type": "execute_result",
          "data": {
            "text/plain": [
              "RandomForestClassifier(max_depth=8)"
            ]
          },
          "metadata": {},
          "execution_count": 34
        }
      ]
    },
    {
      "cell_type": "code",
      "source": [
        "y_pred = rtf_low_freq_clf.predict(x_val_low_freq.reshape(x_val_low_freq.shape[0], x_val_low_freq.shape[1]*x_val_low_freq.shape[2]))"
      ],
      "metadata": {
        "id": "WguDrlqZeSgm"
      },
      "execution_count": 35,
      "outputs": []
    },
    {
      "cell_type": "code",
      "source": [
        "len(np.where(y_pred == np.argmax(y_val, axis=1))[0])/len(y_pred)"
      ],
      "metadata": {
        "colab": {
          "base_uri": "https://localhost:8080/"
        },
        "id": "RV7Fjgt3eUno",
        "outputId": "d65a5283-f664-456b-8c28-0a4a0b930249"
      },
      "execution_count": 36,
      "outputs": [
        {
          "output_type": "execute_result",
          "data": {
            "text/plain": [
              "0.7988606485539"
            ]
          },
          "metadata": {},
          "execution_count": 36
        }
      ]
    },
    {
      "cell_type": "code",
      "source": [
        "# saving the model\n",
        "\n",
        "# pickle.dump(rtf_low_freq_clf, open('/content/drive/MyDrive/egm_rtf_lf.sav', 'wb'))"
      ],
      "metadata": {
        "id": "cczjo6ufeWx_"
      },
      "execution_count": 37,
      "outputs": []
    },
    {
      "cell_type": "markdown",
      "source": [
        "# Analysis"
      ],
      "metadata": {
        "id": "vScc05Vno7Kv"
      }
    },
    {
      "cell_type": "code",
      "source": [
        "import pandas as pd"
      ],
      "metadata": {
        "id": "YmqLyrW2rHYg"
      },
      "execution_count": 38,
      "outputs": []
    },
    {
      "cell_type": "code",
      "source": [
        "nn_pred = np.argmax(InceptionTimeModel.predict(x_test),axis=1)"
      ],
      "metadata": {
        "id": "95NhAlHQg0Zq"
      },
      "execution_count": 39,
      "outputs": []
    },
    {
      "cell_type": "code",
      "source": [
        "svm_pred = svm_low_freq_clf.predict(x_test[:,::10].reshape((x_test.shape[0],80)))"
      ],
      "metadata": {
        "id": "hnmTKC2CqDhY"
      },
      "execution_count": 40,
      "outputs": []
    },
    {
      "cell_type": "code",
      "source": [
        "rtf_pred = rtf_low_freq_clf.predict(x_test[:,::10].reshape((x_test.shape[0],80)))"
      ],
      "metadata": {
        "id": "jac-PzYUqnex"
      },
      "execution_count": 41,
      "outputs": []
    },
    {
      "cell_type": "code",
      "source": [
        "true_y = np.argmax(y_test, axis=1)"
      ],
      "metadata": {
        "id": "_0fpaBxmpYT1"
      },
      "execution_count": 42,
      "outputs": []
    },
    {
      "cell_type": "code",
      "source": [
        "df = pd.DataFrame({'NN': nn_pred,\n",
        "                   'SVM': svm_pred,\n",
        "                   'RTF': rtf_pred,\n",
        "                   'Y': true_y})"
      ],
      "metadata": {
        "id": "l5Yx3dYVpbpV"
      },
      "execution_count": 43,
      "outputs": []
    },
    {
      "cell_type": "code",
      "source": [
        "pylab.hist([nn_pred, svm_pred, rtf_pred, true_y],label=['NN','SVM','RTF','Y'])\n",
        "pylab.legend(loc=4)\n",
        "pylab.title('Prediction distribution (test)')\n",
        "pylab.xlabel('Predicted class')\n",
        "pylab.ylabel('Num of predictions')"
      ],
      "metadata": {
        "colab": {
          "base_uri": "https://localhost:8080/",
          "height": 313
        },
        "id": "eowZJipLptm8",
        "outputId": "b6cc478e-192b-4122-c9cb-67a8da395ad7"
      },
      "execution_count": 46,
      "outputs": [
        {
          "output_type": "execute_result",
          "data": {
            "text/plain": [
              "Text(0, 0.5, 'Num of predictions')"
            ]
          },
          "metadata": {},
          "execution_count": 46
        },
        {
          "output_type": "display_data",
          "data": {
            "image/png": "[encoded data removed]",
            "text/plain": [
              "<Figure size 432x288 with 1 Axes>"
            ]
          },
          "metadata": {
            "needs_background": "light"
          }
        }
      ]
    },
    {
      "cell_type": "markdown",
      "source": [
        "On the histogram above we can see that the NN classifier is underclassifying the 3rd class and overclassifying the 1st class, it is not however an unbalanced set problem:"
      ],
      "metadata": {
        "id": "5Xyt_w99tt-V"
      }
    },
    {
      "cell_type": "code",
      "source": [
        "pylab.hist(np.argmax(y_train, axis=1))\n",
        "pylab.title('Training set distribution')\n",
        "pylab.xlabel('Predicted class')\n",
        "pylab.ylabel('Num of predictions')"
      ],
      "metadata": {
        "colab": {
          "base_uri": "https://localhost:8080/",
          "height": 313
        },
        "id": "KXDP6nFkp07Y",
        "outputId": "989ba6b4-ee7f-4e75-84b3-928a9049b3bf"
      },
      "execution_count": 47,
      "outputs": [
        {
          "output_type": "execute_result",
          "data": {
            "text/plain": [
              "Text(0, 0.5, 'Num of predictions')"
            ]
          },
          "metadata": {},
          "execution_count": 47
        },
        {
          "output_type": "display_data",
          "data": {
            "image/png": "[encoded data removed]",
            "text/plain": [
              "<Figure size 432x288 with 1 Axes>"
            ]
          },
          "metadata": {
            "needs_background": "light"
          }
        }
      ]
    },
    {
      "cell_type": "markdown",
      "source": [
        "Accuracies"
      ],
      "metadata": {
        "id": "dQ4Enxeij4ZT"
      }
    },
    {
      "cell_type": "code",
      "source": [
        "print(f'NN: {len(np.where(nn_pred==true_y)[0])/len(true_y)}')\n",
        "print(f'SVM: {len(np.where(svm_pred==true_y)[0])/len(true_y)}')\n",
        "print(f'RTF: {len(np.where(rtf_pred==true_y)[0])/len(true_y)}')"
      ],
      "metadata": {
        "colab": {
          "base_uri": "https://localhost:8080/"
        },
        "id": "fu6JEZrEq-Aa",
        "outputId": "768aa1b2-b47e-448f-a4f4-eb402a663408"
      },
      "execution_count": 49,
      "outputs": [
        {
          "output_type": "stream",
          "name": "stdout",
          "text": [
            "NN: 0.7936851211072664\n",
            "SVM: 0.7497837370242214\n",
            "RTF: 0.7964965397923875\n"
          ]
        }
      ]
    },
    {
      "cell_type": "markdown",
      "source": [
        "Confusion matrices"
      ],
      "metadata": {
        "id": "Zt6IxNedkcg6"
      }
    },
    {
      "cell_type": "code",
      "source": [
        "import sklearn\n",
        "\n",
        "nn_cm = sklearn.metrics.confusion_matrix(true_y, nn_pred)\n",
        "nn_cm"
      ],
      "metadata": {
        "colab": {
          "base_uri": "https://localhost:8080/"
        },
        "id": "iVAfJS9VkJ6L",
        "outputId": "4d8c05dd-bdd9-4dd4-a247-3eaed2096968"
      },
      "execution_count": 56,
      "outputs": [
        {
          "output_type": "execute_result",
          "data": {
            "text/plain": [
              "array([[876,   0,   0,   0,  18],\n",
              "       [  0, 741, 135,   0,  17],\n",
              "       [  8, 106, 787,   0,  21],\n",
              "       [  1,  64,   3, 564, 335],\n",
              "       [ 60, 153,  16,  17, 702]])"
            ]
          },
          "metadata": {},
          "execution_count": 56
        }
      ]
    },
    {
      "cell_type": "code",
      "source": [
        "svm_cm = sklearn.metrics.confusion_matrix(true_y, svm_pred)\n",
        "svm_cm"
      ],
      "metadata": {
        "colab": {
          "base_uri": "https://localhost:8080/"
        },
        "id": "xqGdIfI8mFSn",
        "outputId": "12cc683c-1601-4005-a28b-79df1c54cf7e"
      },
      "execution_count": 57,
      "outputs": [
        {
          "output_type": "execute_result",
          "data": {
            "text/plain": [
              "array([[850,   3,  23,   0,  18],\n",
              "       [ 11, 577, 243,  25,  37],\n",
              "       [ 55,  89, 708,  29,  41],\n",
              "       [  0,  39,   2, 696, 230],\n",
              "       [ 17,  89,  78, 128, 636]])"
            ]
          },
          "metadata": {},
          "execution_count": 57
        }
      ]
    },
    {
      "cell_type": "code",
      "source": [
        "rtf_cm = sklearn.metrics.confusion_matrix(true_y, rtf_pred)\n",
        "rtf_cm"
      ],
      "metadata": {
        "colab": {
          "base_uri": "https://localhost:8080/"
        },
        "id": "oHawY2RCnhY5",
        "outputId": "40e7f51d-1dd9-4605-ce7f-3821850442b0"
      },
      "execution_count": 58,
      "outputs": [
        {
          "output_type": "execute_result",
          "data": {
            "text/plain": [
              "array([[853,   0,  10,   0,  31],\n",
              "       [  1, 672, 145,  17,  58],\n",
              "       [  8, 118, 732,  13,  51],\n",
              "       [  2,  48,   5, 734, 178],\n",
              "       [ 47,  45,  32, 132, 692]])"
            ]
          },
          "metadata": {},
          "execution_count": 58
        }
      ]
    },
    {
      "cell_type": "markdown",
      "source": [
        "Precisions"
      ],
      "metadata": {
        "id": "tVV92UBInmfa"
      }
    },
    {
      "cell_type": "code",
      "source": [
        "print('NN')\n",
        "nn_precisions = []\n",
        "\n",
        "for i in range(5):\n",
        "  nn_precisions.append(nn_cm[i,i]/nn_cm[:,i].sum())\n",
        "  print(f'{i}: {nn_precisions[i]}')\n",
        "\n",
        "print(f'\\ngeneral: {sklearn.metrics.precision_score(true_y, nn_pred, average=\"macro\")}')"
      ],
      "metadata": {
        "colab": {
          "base_uri": "https://localhost:8080/"
        },
        "id": "Ge7R9Y9Vnkr0",
        "outputId": "ea700fec-d4a1-40b4-f511-d7cdfbe746db"
      },
      "execution_count": 79,
      "outputs": [
        {
          "output_type": "stream",
          "name": "stdout",
          "text": [
            "NN\n",
            "0: 0.926984126984127\n",
            "1: 0.6964285714285714\n",
            "2: 0.8363443145589798\n",
            "3: 0.9707401032702238\n",
            "4: 0.6422689844464776\n",
            "\n",
            "general: 0.8145532201376758\n"
          ]
        }
      ]
    },
    {
      "cell_type": "code",
      "source": [
        "print('SVM')\n",
        "svm_precisions = []\n",
        "\n",
        "for i in range(5):\n",
        "  svm_precisions.append(svm_cm[i,i]/svm_cm[:,i].sum())\n",
        "  print(f'{i}: {svm_precisions[i]}')\n",
        "\n",
        "print(f'\\ngeneral: {sklearn.metrics.precision_score(true_y, svm_pred, average=\"macro\")}')"
      ],
      "metadata": {
        "colab": {
          "base_uri": "https://localhost:8080/"
        },
        "id": "4QxhJHA9oM8-",
        "outputId": "378fe1da-ad38-4917-e391-5b92fdfc3c62"
      },
      "execution_count": 80,
      "outputs": [
        {
          "output_type": "stream",
          "name": "stdout",
          "text": [
            "SVM\n",
            "0: 0.9110396570203644\n",
            "1: 0.7239648682559598\n",
            "2: 0.6717267552182163\n",
            "3: 0.7927107061503417\n",
            "4: 0.6611226611226612\n",
            "\n",
            "general: 0.7521129295535087\n"
          ]
        }
      ]
    },
    {
      "cell_type": "code",
      "source": [
        "print('RTF')\n",
        "rtf_precisions = []\n",
        "\n",
        "for i in range(5):\n",
        "  rtf_precisions.append(rtf_cm[i,i]/rtf_cm[:,i].sum())\n",
        "  print(f'{i}: {rtf_precisions[i]}')\n",
        "\n",
        "print(f'\\ngeneral: {sklearn.metrics.precision_score(true_y, rtf_pred, average=\"macro\")}')"
      ],
      "metadata": {
        "colab": {
          "base_uri": "https://localhost:8080/"
        },
        "id": "MNldHr4LpVj6",
        "outputId": "6fa5b35e-c053-462d-a887-ca9bbe38bf97"
      },
      "execution_count": 81,
      "outputs": [
        {
          "output_type": "stream",
          "name": "stdout",
          "text": [
            "RTF\n",
            "0: 0.9363336992316136\n",
            "1: 0.7610419026047565\n",
            "2: 0.7922077922077922\n",
            "3: 0.8191964285714286\n",
            "4: 0.6851485148514852\n",
            "\n",
            "general: 0.7987856674934153\n"
          ]
        }
      ]
    },
    {
      "cell_type": "markdown",
      "source": [
        "Recalls"
      ],
      "metadata": {
        "id": "vg51iClJrm2s"
      }
    },
    {
      "cell_type": "code",
      "source": [
        "print('NN')\n",
        "nn_recalls = []\n",
        "\n",
        "for i in range(5):\n",
        "  nn_recalls.append(nn_cm[i,i]/nn_cm[i].sum())\n",
        "  print(f'{i}: {nn_recalls[i]}')\n",
        "\n",
        "print(f'\\ngeneral: {sklearn.metrics.recall_score(true_y, nn_pred, average=\"macro\")}')"
      ],
      "metadata": {
        "colab": {
          "base_uri": "https://localhost:8080/"
        },
        "id": "HTsfUVr-pgKo",
        "outputId": "9943a40e-f4ec-4925-b2a2-0a968e487ced"
      },
      "execution_count": 82,
      "outputs": [
        {
          "output_type": "stream",
          "name": "stdout",
          "text": [
            "NN\n",
            "0: 0.9798657718120806\n",
            "1: 0.8297872340425532\n",
            "2: 0.8535791757049892\n",
            "3: 0.5832471561530507\n",
            "4: 0.740506329113924\n",
            "\n",
            "general: 0.7973971333653195\n"
          ]
        }
      ]
    },
    {
      "cell_type": "code",
      "source": [
        "print('SVM')\n",
        "svm_recalls = []\n",
        "\n",
        "for i in range(5):\n",
        "  svm_recalls.append(svm_cm[i,i]/svm_cm[i].sum())\n",
        "  print(f'{i}: {svm_recalls[i]}')\n",
        "\n",
        "print(f'\\ngeneral: {sklearn.metrics.recall_score(true_y, svm_pred, average=\"macro\")}')"
      ],
      "metadata": {
        "colab": {
          "base_uri": "https://localhost:8080/"
        },
        "id": "Xv_hO1wBsFyd",
        "outputId": "796bd64f-33aa-4ba8-8c00-abaea728fcbf"
      },
      "execution_count": 83,
      "outputs": [
        {
          "output_type": "stream",
          "name": "stdout",
          "text": [
            "SVM\n",
            "0: 0.9507829977628636\n",
            "1: 0.6461366181410975\n",
            "2: 0.7678958785249458\n",
            "3: 0.7197518097207859\n",
            "4: 0.6708860759493671\n",
            "\n",
            "general: 0.7510906760198119\n"
          ]
        }
      ]
    },
    {
      "cell_type": "code",
      "source": [
        "print('RTF')\n",
        "rtf_recalls = []\n",
        "\n",
        "for i in range(5):\n",
        "  rtf_recalls.append(rtf_cm[i,i]/rtf_cm[i].sum())\n",
        "  print(f'{i}: {rtf_recalls[i]}')\n",
        "\n",
        "print(f'\\ngeneral: {sklearn.metrics.recall_score(true_y, rtf_pred, average=\"macro\")}')"
      ],
      "metadata": {
        "colab": {
          "base_uri": "https://localhost:8080/"
        },
        "id": "G6mKTSv9sJmc",
        "outputId": "348e041d-e043-40c3-bff0-7ba8f4ed2c13"
      },
      "execution_count": 84,
      "outputs": [
        {
          "output_type": "stream",
          "name": "stdout",
          "text": [
            "RTF\n",
            "0: 0.9541387024608501\n",
            "1: 0.7525195968645016\n",
            "2: 0.7939262472885033\n",
            "3: 0.7590486039296794\n",
            "4: 0.729957805907173\n",
            "\n",
            "general: 0.7979181912901415\n"
          ]
        }
      ]
    }
  ]
}